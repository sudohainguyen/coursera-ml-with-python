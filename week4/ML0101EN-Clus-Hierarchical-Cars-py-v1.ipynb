{
 "cells": [
  {
   "cell_type": "markdown",
   "metadata": {},
   "source": [
    "<a href=\"https://www.bigdatauniversity.com\"><img src=\"https://ibm.box.com/shared/static/cw2c7r3o20w9zn8gkecaeyjhgw3xdgbj.png\" width=\"400\" align=\"center\"></a>\n",
    "\n",
    "<h1><center>Hierarchical Clustering</center></h1>"
   ]
  },
  {
   "cell_type": "markdown",
   "metadata": {},
   "source": [
    "Welcome to Lab of Hierarchical Clustering with Python using Scipy and Scikit-learn package."
   ]
  },
  {
   "cell_type": "markdown",
   "metadata": {},
   "source": [
    "<h1>Table of contents</h1>\n",
    "\n",
    "<div class=\"alert alert-block alert-info\" style=\"margin-top: 20px\">\n",
    "    <ol>\n",
    "        <li><a href=\"#hierarchical_agglomerative\">Hierarchical Clustering - Agglomerative</a></li>\n",
    "            <ol>\n",
    "                <li><a href=\"#generating_data\">Generating Random Data</a></li>\n",
    "                <li><a href=\"#agglomerative_clustering\">Agglomerative Clustering</a></li>\n",
    "                <li><a href=\"#dendrogram\">Dendrogram Associated for the Agglomerative Hierarchical Clustering</a></li>\n",
    "            </ol>            \n",
    "        <li><a href=\"#clustering_vehicle_dataset\">Clustering on the Vehicle Dataset</a></li>\n",
    "            <ol>\n",
    "                <li><a href=\"#data_cleaning\">Data Cleaning</a></li>\n",
    "                <li><a href=\"#clustering_using_scipy\">Clustering Using Scipy</a></li>\n",
    "                <li><a href=\"#clustering_using_skl\">Clustering using scikit-learn</a></li>\n",
    "            </ol>\n",
    "    </ol>\n",
    "</div>\n",
    "<br>\n",
    "<hr>"
   ]
  },
  {
   "cell_type": "markdown",
   "metadata": {},
   "source": [
    "<h1 id=\"hierarchical_agglomerative\">Hierarchical Clustering - Agglomerative</h1>\n",
    "\n",
    "We will be looking at a clustering technique, which is <b>Agglomerative Hierarchical Clustering</b>. Remember that agglomerative is the bottom up approach. <br> <br>\n",
    "In this lab, we will be looking at Agglomerative clustering, which is more popular than Divisive clustering. <br> <br>\n",
    "We will also be using Complete Linkage as the Linkage Criteria. <br>\n",
    "<b> <i> NOTE: You can also try using Average Linkage wherever Complete Linkage would be used to see the difference! </i> </b>"
   ]
  },
  {
   "cell_type": "code",
   "execution_count": 1,
   "metadata": {
    "collapsed": true
   },
   "outputs": [],
   "source": [
    "import numpy as np \n",
    "import pandas as pd\n",
    "from scipy import ndimage \n",
    "from scipy.cluster import hierarchy \n",
    "from scipy.spatial import distance_matrix \n",
    "from matplotlib import pyplot as plt \n",
    "from sklearn import manifold, datasets \n",
    "from sklearn.cluster import AgglomerativeClustering \n",
    "from sklearn.datasets.samples_generator import make_blobs \n",
    "%matplotlib inline"
   ]
  },
  {
   "cell_type": "markdown",
   "metadata": {},
   "source": [
    "<hr>\n",
    "<h3 id=\"generating_data\">Generating Random Data</h3>\n",
    "We will be generating a set of data using the <b>make_blobs</b> class. <br> <br>\n",
    "Input these parameters into make_blobs:\n",
    "<ul>\n",
    "    <li> <b>n_samples</b>: The total number of points equally divided among clusters. </li>\n",
    "    <ul> <li> Choose a number from 10-1500 </li> </ul>\n",
    "    <li> <b>centers</b>: The number of centers to generate, or the fixed center locations. </li>\n",
    "    <ul> <li> Choose arrays of x,y coordinates for generating the centers. Have 1-10 centers (ex. centers=[[1,1], [2,5]]) </li> </ul>\n",
    "    <li> <b>cluster_std</b>: The standard deviation of the clusters. The larger the number, the further apart the clusters</li>\n",
    "    <ul> <li> Choose a number between 0.5-1.5 </li> </ul>\n",
    "</ul> <br>\n",
    "Save the result to <b>X1</b> and <b>y1</b>."
   ]
  },
  {
   "cell_type": "code",
   "execution_count": 2,
   "metadata": {
    "collapsed": true
   },
   "outputs": [],
   "source": [
    "X1, y1 = make_blobs(n_samples=50, centers=[[4,4], [-2, -1], [1, 1], [10,4]], cluster_std=0.9)"
   ]
  },
  {
   "cell_type": "markdown",
   "metadata": {},
   "source": [
    "Plot the scatter plot of the randomly generated data"
   ]
  },
  {
   "cell_type": "code",
   "execution_count": 3,
   "metadata": {},
   "outputs": [
    {
     "output_type": "execute_result",
     "data": {
      "text/plain": "<matplotlib.collections.PathCollection at 0x7efd82b2eb10>"
     },
     "metadata": {},
     "execution_count": 3
    },
    {
     "output_type": "display_data",
     "data": {
      "text/plain": "<Figure size 432x288 with 1 Axes>",
      "image/svg+xml": "<?xml version=\"1.0\" encoding=\"utf-8\" standalone=\"no\"?>\n<!DOCTYPE svg PUBLIC \"-//W3C//DTD SVG 1.1//EN\"\n  \"http://www.w3.org/Graphics/SVG/1.1/DTD/svg11.dtd\">\n<!-- Created with matplotlib (https://matplotlib.org/) -->\n<svg height=\"250.044997pt\" version=\"1.1\" viewBox=\"0 0 374.464335 250.044997\" width=\"374.464335pt\" xmlns=\"http://www.w3.org/2000/svg\" xmlns:xlink=\"http://www.w3.org/1999/xlink\">\n <defs>\n  <style type=\"text/css\">\n*{stroke-linecap:butt;stroke-linejoin:round;}\n  </style>\n </defs>\n <g id=\"figure_1\">\n  <g id=\"patch_1\">\n   <path d=\"M 0 250.044997 \nL 374.464335 250.044997 \nL 374.464335 0 \nL 0 0 \nz\n\" style=\"fill:none;\"/>\n  </g>\n  <g id=\"axes_1\">\n   <g id=\"patch_2\">\n    <path d=\"M 28.942188 226.166872 \nL 363.742188 226.166872 \nL 363.742188 8.726872 \nL 28.942188 8.726872 \nz\n\" style=\"fill:#ffffff;\"/>\n   </g>\n   <g id=\"PathCollection_1\">\n    <defs>\n     <path d=\"M 0 3 \nC 0.795609 3 1.55874 2.683901 2.12132 2.12132 \nC 2.683901 1.55874 3 0.795609 3 0 \nC 3 -0.795609 2.683901 -1.55874 2.12132 -2.12132 \nC 1.55874 -2.683901 0.795609 -3 0 -3 \nC -0.795609 -3 -1.55874 -2.683901 -2.12132 -2.12132 \nC -2.683901 -1.55874 -3 -0.795609 -3 0 \nC -3 0.795609 -2.683901 1.55874 -2.12132 2.12132 \nC -1.55874 2.683901 -0.795609 3 0 3 \nz\n\" id=\"md92609bce7\" style=\"stroke:#1f77b4;\"/>\n    </defs>\n    <g clip-path=\"url(#p10a49559fe)\">\n     <use style=\"fill:#1f77b4;stroke:#1f77b4;\" x=\"50.525162\" xlink:href=\"#md92609bce7\" y=\"209.7211\"/>\n     <use style=\"fill:#1f77b4;stroke:#1f77b4;\" x=\"58.409377\" xlink:href=\"#md92609bce7\" y=\"211.296576\"/>\n     <use style=\"fill:#1f77b4;stroke:#1f77b4;\" x=\"92.801735\" xlink:href=\"#md92609bce7\" y=\"165.339556\"/>\n     <use style=\"fill:#1f77b4;stroke:#1f77b4;\" x=\"346.154076\" xlink:href=\"#md92609bce7\" y=\"67.156645\"/>\n     <use style=\"fill:#1f77b4;stroke:#1f77b4;\" x=\"217.453469\" xlink:href=\"#md92609bce7\" y=\"41.617577\"/>\n     <use style=\"fill:#1f77b4;stroke:#1f77b4;\" x=\"78.166084\" xlink:href=\"#md92609bce7\" y=\"129.954262\"/>\n     <use style=\"fill:#1f77b4;stroke:#1f77b4;\" x=\"47.60253\" xlink:href=\"#md92609bce7\" y=\"194.717916\"/>\n     <use style=\"fill:#1f77b4;stroke:#1f77b4;\" x=\"187.774726\" xlink:href=\"#md92609bce7\" y=\"43.037293\"/>\n     <use style=\"fill:#1f77b4;stroke:#1f77b4;\" x=\"346.874596\" xlink:href=\"#md92609bce7\" y=\"81.249146\"/>\n     <use style=\"fill:#1f77b4;stroke:#1f77b4;\" x=\"50.308907\" xlink:href=\"#md92609bce7\" y=\"215.93673\"/>\n     <use style=\"fill:#1f77b4;stroke:#1f77b4;\" x=\"244.066994\" xlink:href=\"#md92609bce7\" y=\"77.797541\"/>\n     <use style=\"fill:#1f77b4;stroke:#1f77b4;\" x=\"337.005554\" xlink:href=\"#md92609bce7\" y=\"65.67185\"/>\n     <use style=\"fill:#1f77b4;stroke:#1f77b4;\" x=\"223.902535\" xlink:href=\"#md92609bce7\" y=\"21.33282\"/>\n     <use style=\"fill:#1f77b4;stroke:#1f77b4;\" x=\"149.827073\" xlink:href=\"#md92609bce7\" y=\"117.578574\"/>\n     <use style=\"fill:#1f77b4;stroke:#1f77b4;\" x=\"179.70138\" xlink:href=\"#md92609bce7\" y=\"87.282367\"/>\n     <use style=\"fill:#1f77b4;stroke:#1f77b4;\" x=\"210.215611\" xlink:href=\"#md92609bce7\" y=\"31.077551\"/>\n     <use style=\"fill:#1f77b4;stroke:#1f77b4;\" x=\"348.345481\" xlink:href=\"#md92609bce7\" y=\"81.966737\"/>\n     <use style=\"fill:#1f77b4;stroke:#1f77b4;\" x=\"61.361949\" xlink:href=\"#md92609bce7\" y=\"201.827343\"/>\n     <use style=\"fill:#1f77b4;stroke:#1f77b4;\" x=\"328.286133\" xlink:href=\"#md92609bce7\" y=\"94.25107\"/>\n     <use style=\"fill:#1f77b4;stroke:#1f77b4;\" x=\"161.824196\" xlink:href=\"#md92609bce7\" y=\"127.299572\"/>\n     <use style=\"fill:#1f77b4;stroke:#1f77b4;\" x=\"213.465807\" xlink:href=\"#md92609bce7\" y=\"38.918717\"/>\n     <use style=\"fill:#1f77b4;stroke:#1f77b4;\" x=\"315.337783\" xlink:href=\"#md92609bce7\" y=\"70.514079\"/>\n     <use style=\"fill:#1f77b4;stroke:#1f77b4;\" x=\"111.11227\" xlink:href=\"#md92609bce7\" y=\"164.335445\"/>\n     <use style=\"fill:#1f77b4;stroke:#1f77b4;\" x=\"81.645401\" xlink:href=\"#md92609bce7\" y=\"171.665264\"/>\n     <use style=\"fill:#1f77b4;stroke:#1f77b4;\" x=\"99.488873\" xlink:href=\"#md92609bce7\" y=\"177.166295\"/>\n     <use style=\"fill:#1f77b4;stroke:#1f77b4;\" x=\"173.256085\" xlink:href=\"#md92609bce7\" y=\"133.809335\"/>\n     <use style=\"fill:#1f77b4;stroke:#1f77b4;\" x=\"206.406703\" xlink:href=\"#md92609bce7\" y=\"50.239801\"/>\n     <use style=\"fill:#1f77b4;stroke:#1f77b4;\" x=\"106.837421\" xlink:href=\"#md92609bce7\" y=\"196.761153\"/>\n     <use style=\"fill:#1f77b4;stroke:#1f77b4;\" x=\"163.866738\" xlink:href=\"#md92609bce7\" y=\"134.389886\"/>\n     <use style=\"fill:#1f77b4;stroke:#1f77b4;\" x=\"214.515806\" xlink:href=\"#md92609bce7\" y=\"43.807569\"/>\n     <use style=\"fill:#1f77b4;stroke:#1f77b4;\" x=\"121.437021\" xlink:href=\"#md92609bce7\" y=\"167.930349\"/>\n     <use style=\"fill:#1f77b4;stroke:#1f77b4;\" x=\"142.78847\" xlink:href=\"#md92609bce7\" y=\"109.62233\"/>\n     <use style=\"fill:#1f77b4;stroke:#1f77b4;\" x=\"155.441642\" xlink:href=\"#md92609bce7\" y=\"127.051414\"/>\n     <use style=\"fill:#1f77b4;stroke:#1f77b4;\" x=\"297.783396\" xlink:href=\"#md92609bce7\" y=\"21.191635\"/>\n     <use style=\"fill:#1f77b4;stroke:#1f77b4;\" x=\"212.973782\" xlink:href=\"#md92609bce7\" y=\"42.19318\"/>\n     <use style=\"fill:#1f77b4;stroke:#1f77b4;\" x=\"168.978739\" xlink:href=\"#md92609bce7\" y=\"18.957015\"/>\n     <use style=\"fill:#1f77b4;stroke:#1f77b4;\" x=\"139.648507\" xlink:href=\"#md92609bce7\" y=\"121.312825\"/>\n     <use style=\"fill:#1f77b4;stroke:#1f77b4;\" x=\"48.509288\" xlink:href=\"#md92609bce7\" y=\"190.043261\"/>\n     <use style=\"fill:#1f77b4;stroke:#1f77b4;\" x=\"325.139579\" xlink:href=\"#md92609bce7\" y=\"86.984606\"/>\n     <use style=\"fill:#1f77b4;stroke:#1f77b4;\" x=\"193.646724\" xlink:href=\"#md92609bce7\" y=\"77.818742\"/>\n     <use style=\"fill:#1f77b4;stroke:#1f77b4;\" x=\"78.481684\" xlink:href=\"#md92609bce7\" y=\"204.38904\"/>\n     <use style=\"fill:#1f77b4;stroke:#1f77b4;\" x=\"311.443688\" xlink:href=\"#md92609bce7\" y=\"60.074191\"/>\n     <use style=\"fill:#1f77b4;stroke:#1f77b4;\" x=\"166.573738\" xlink:href=\"#md92609bce7\" y=\"130.671793\"/>\n     <use style=\"fill:#1f77b4;stroke:#1f77b4;\" x=\"151.19479\" xlink:href=\"#md92609bce7\" y=\"152.999716\"/>\n     <use style=\"fill:#1f77b4;stroke:#1f77b4;\" x=\"44.338894\" xlink:href=\"#md92609bce7\" y=\"183.524802\"/>\n     <use style=\"fill:#1f77b4;stroke:#1f77b4;\" x=\"304.323129\" xlink:href=\"#md92609bce7\" y=\"63.554917\"/>\n     <use style=\"fill:#1f77b4;stroke:#1f77b4;\" x=\"154.621063\" xlink:href=\"#md92609bce7\" y=\"110.235396\"/>\n     <use style=\"fill:#1f77b4;stroke:#1f77b4;\" x=\"336.332907\" xlink:href=\"#md92609bce7\" y=\"73.311285\"/>\n     <use style=\"fill:#1f77b4;stroke:#1f77b4;\" x=\"191.071408\" xlink:href=\"#md92609bce7\" y=\"89.936984\"/>\n     <use style=\"fill:#1f77b4;stroke:#1f77b4;\" x=\"305.6791\" xlink:href=\"#md92609bce7\" y=\"46.385213\"/>\n    </g>\n   </g>\n   <g id=\"matplotlib.axis_1\">\n    <g id=\"xtick_1\">\n     <g id=\"line2d_1\">\n      <defs>\n       <path d=\"M 0 0 \nL 0 3.5 \n\" id=\"madbc3949ec\" style=\"stroke:#000000;stroke-width:0.8;\"/>\n      </defs>\n      <g>\n       <use style=\"stroke:#000000;stroke-width:0.8;\" x=\"42.127761\" xlink:href=\"#madbc3949ec\" y=\"226.166872\"/>\n      </g>\n     </g>\n     <g id=\"text_1\">\n      <!-- −4 -->\n      <defs>\n       <path d=\"M 10.59375 35.5 \nL 73.1875 35.5 \nL 73.1875 27.203125 \nL 10.59375 27.203125 \nz\n\" id=\"DejaVuSans-8722\"/>\n       <path d=\"M 37.796875 64.3125 \nL 12.890625 25.390625 \nL 37.796875 25.390625 \nz\nM 35.203125 72.90625 \nL 47.609375 72.90625 \nL 47.609375 25.390625 \nL 58.015625 25.390625 \nL 58.015625 17.1875 \nL 47.609375 17.1875 \nL 47.609375 0 \nL 37.796875 0 \nL 37.796875 17.1875 \nL 4.890625 17.1875 \nL 4.890625 26.703125 \nz\n\" id=\"DejaVuSans-52\"/>\n      </defs>\n      <g transform=\"translate(34.756667 240.76531)scale(0.1 -0.1)\">\n       <use xlink:href=\"#DejaVuSans-8722\"/>\n       <use x=\"83.789062\" xlink:href=\"#DejaVuSans-52\"/>\n      </g>\n     </g>\n    </g>\n    <g id=\"xtick_2\">\n     <g id=\"line2d_2\">\n      <g>\n       <use style=\"stroke:#000000;stroke-width:0.8;\" x=\"81.97452\" xlink:href=\"#madbc3949ec\" y=\"226.166872\"/>\n      </g>\n     </g>\n     <g id=\"text_2\">\n      <!-- −2 -->\n      <defs>\n       <path d=\"M 19.1875 8.296875 \nL 53.609375 8.296875 \nL 53.609375 0 \nL 7.328125 0 \nL 7.328125 8.296875 \nQ 12.9375 14.109375 22.625 23.890625 \nQ 32.328125 33.6875 34.8125 36.53125 \nQ 39.546875 41.84375 41.421875 45.53125 \nQ 43.3125 49.21875 43.3125 52.78125 \nQ 43.3125 58.59375 39.234375 62.25 \nQ 35.15625 65.921875 28.609375 65.921875 \nQ 23.96875 65.921875 18.8125 64.3125 \nQ 13.671875 62.703125 7.8125 59.421875 \nL 7.8125 69.390625 \nQ 13.765625 71.78125 18.9375 73 \nQ 24.125 74.21875 28.421875 74.21875 \nQ 39.75 74.21875 46.484375 68.546875 \nQ 53.21875 62.890625 53.21875 53.421875 \nQ 53.21875 48.921875 51.53125 44.890625 \nQ 49.859375 40.875 45.40625 35.40625 \nQ 44.1875 33.984375 37.640625 27.21875 \nQ 31.109375 20.453125 19.1875 8.296875 \nz\n\" id=\"DejaVuSans-50\"/>\n      </defs>\n      <g transform=\"translate(74.603427 240.76531)scale(0.1 -0.1)\">\n       <use xlink:href=\"#DejaVuSans-8722\"/>\n       <use x=\"83.789062\" xlink:href=\"#DejaVuSans-50\"/>\n      </g>\n     </g>\n    </g>\n    <g id=\"xtick_3\">\n     <g id=\"line2d_3\">\n      <g>\n       <use style=\"stroke:#000000;stroke-width:0.8;\" x=\"121.82128\" xlink:href=\"#madbc3949ec\" y=\"226.166872\"/>\n      </g>\n     </g>\n     <g id=\"text_3\">\n      <!-- 0 -->\n      <defs>\n       <path d=\"M 31.78125 66.40625 \nQ 24.171875 66.40625 20.328125 58.90625 \nQ 16.5 51.421875 16.5 36.375 \nQ 16.5 21.390625 20.328125 13.890625 \nQ 24.171875 6.390625 31.78125 6.390625 \nQ 39.453125 6.390625 43.28125 13.890625 \nQ 47.125 21.390625 47.125 36.375 \nQ 47.125 51.421875 43.28125 58.90625 \nQ 39.453125 66.40625 31.78125 66.40625 \nz\nM 31.78125 74.21875 \nQ 44.046875 74.21875 50.515625 64.515625 \nQ 56.984375 54.828125 56.984375 36.375 \nQ 56.984375 17.96875 50.515625 8.265625 \nQ 44.046875 -1.421875 31.78125 -1.421875 \nQ 19.53125 -1.421875 13.0625 8.265625 \nQ 6.59375 17.96875 6.59375 36.375 \nQ 6.59375 54.828125 13.0625 64.515625 \nQ 19.53125 74.21875 31.78125 74.21875 \nz\n\" id=\"DejaVuSans-48\"/>\n      </defs>\n      <g transform=\"translate(118.64003 240.76531)scale(0.1 -0.1)\">\n       <use xlink:href=\"#DejaVuSans-48\"/>\n      </g>\n     </g>\n    </g>\n    <g id=\"xtick_4\">\n     <g id=\"line2d_4\">\n      <g>\n       <use style=\"stroke:#000000;stroke-width:0.8;\" x=\"161.668039\" xlink:href=\"#madbc3949ec\" y=\"226.166872\"/>\n      </g>\n     </g>\n     <g id=\"text_4\">\n      <!-- 2 -->\n      <g transform=\"translate(158.486789 240.76531)scale(0.1 -0.1)\">\n       <use xlink:href=\"#DejaVuSans-50\"/>\n      </g>\n     </g>\n    </g>\n    <g id=\"xtick_5\">\n     <g id=\"line2d_5\">\n      <g>\n       <use style=\"stroke:#000000;stroke-width:0.8;\" x=\"201.514798\" xlink:href=\"#madbc3949ec\" y=\"226.166872\"/>\n      </g>\n     </g>\n     <g id=\"text_5\">\n      <!-- 4 -->\n      <g transform=\"translate(198.333548 240.76531)scale(0.1 -0.1)\">\n       <use xlink:href=\"#DejaVuSans-52\"/>\n      </g>\n     </g>\n    </g>\n    <g id=\"xtick_6\">\n     <g id=\"line2d_6\">\n      <g>\n       <use style=\"stroke:#000000;stroke-width:0.8;\" x=\"241.361557\" xlink:href=\"#madbc3949ec\" y=\"226.166872\"/>\n      </g>\n     </g>\n     <g id=\"text_6\">\n      <!-- 6 -->\n      <defs>\n       <path d=\"M 33.015625 40.375 \nQ 26.375 40.375 22.484375 35.828125 \nQ 18.609375 31.296875 18.609375 23.390625 \nQ 18.609375 15.53125 22.484375 10.953125 \nQ 26.375 6.390625 33.015625 6.390625 \nQ 39.65625 6.390625 43.53125 10.953125 \nQ 47.40625 15.53125 47.40625 23.390625 \nQ 47.40625 31.296875 43.53125 35.828125 \nQ 39.65625 40.375 33.015625 40.375 \nz\nM 52.59375 71.296875 \nL 52.59375 62.3125 \nQ 48.875 64.0625 45.09375 64.984375 \nQ 41.3125 65.921875 37.59375 65.921875 \nQ 27.828125 65.921875 22.671875 59.328125 \nQ 17.53125 52.734375 16.796875 39.40625 \nQ 19.671875 43.65625 24.015625 45.921875 \nQ 28.375 48.1875 33.59375 48.1875 \nQ 44.578125 48.1875 50.953125 41.515625 \nQ 57.328125 34.859375 57.328125 23.390625 \nQ 57.328125 12.15625 50.6875 5.359375 \nQ 44.046875 -1.421875 33.015625 -1.421875 \nQ 20.359375 -1.421875 13.671875 8.265625 \nQ 6.984375 17.96875 6.984375 36.375 \nQ 6.984375 53.65625 15.1875 63.9375 \nQ 23.390625 74.21875 37.203125 74.21875 \nQ 40.921875 74.21875 44.703125 73.484375 \nQ 48.484375 72.75 52.59375 71.296875 \nz\n\" id=\"DejaVuSans-54\"/>\n      </defs>\n      <g transform=\"translate(238.180307 240.76531)scale(0.1 -0.1)\">\n       <use xlink:href=\"#DejaVuSans-54\"/>\n      </g>\n     </g>\n    </g>\n    <g id=\"xtick_7\">\n     <g id=\"line2d_7\">\n      <g>\n       <use style=\"stroke:#000000;stroke-width:0.8;\" x=\"281.208316\" xlink:href=\"#madbc3949ec\" y=\"226.166872\"/>\n      </g>\n     </g>\n     <g id=\"text_7\">\n      <!-- 8 -->\n      <defs>\n       <path d=\"M 31.78125 34.625 \nQ 24.75 34.625 20.71875 30.859375 \nQ 16.703125 27.09375 16.703125 20.515625 \nQ 16.703125 13.921875 20.71875 10.15625 \nQ 24.75 6.390625 31.78125 6.390625 \nQ 38.8125 6.390625 42.859375 10.171875 \nQ 46.921875 13.96875 46.921875 20.515625 \nQ 46.921875 27.09375 42.890625 30.859375 \nQ 38.875 34.625 31.78125 34.625 \nz\nM 21.921875 38.8125 \nQ 15.578125 40.375 12.03125 44.71875 \nQ 8.5 49.078125 8.5 55.328125 \nQ 8.5 64.0625 14.71875 69.140625 \nQ 20.953125 74.21875 31.78125 74.21875 \nQ 42.671875 74.21875 48.875 69.140625 \nQ 55.078125 64.0625 55.078125 55.328125 \nQ 55.078125 49.078125 51.53125 44.71875 \nQ 48 40.375 41.703125 38.8125 \nQ 48.828125 37.15625 52.796875 32.3125 \nQ 56.78125 27.484375 56.78125 20.515625 \nQ 56.78125 9.90625 50.3125 4.234375 \nQ 43.84375 -1.421875 31.78125 -1.421875 \nQ 19.734375 -1.421875 13.25 4.234375 \nQ 6.78125 9.90625 6.78125 20.515625 \nQ 6.78125 27.484375 10.78125 32.3125 \nQ 14.796875 37.15625 21.921875 38.8125 \nz\nM 18.3125 54.390625 \nQ 18.3125 48.734375 21.84375 45.5625 \nQ 25.390625 42.390625 31.78125 42.390625 \nQ 38.140625 42.390625 41.71875 45.5625 \nQ 45.3125 48.734375 45.3125 54.390625 \nQ 45.3125 60.0625 41.71875 63.234375 \nQ 38.140625 66.40625 31.78125 66.40625 \nQ 25.390625 66.40625 21.84375 63.234375 \nQ 18.3125 60.0625 18.3125 54.390625 \nz\n\" id=\"DejaVuSans-56\"/>\n      </defs>\n      <g transform=\"translate(278.027066 240.76531)scale(0.1 -0.1)\">\n       <use xlink:href=\"#DejaVuSans-56\"/>\n      </g>\n     </g>\n    </g>\n    <g id=\"xtick_8\">\n     <g id=\"line2d_8\">\n      <g>\n       <use style=\"stroke:#000000;stroke-width:0.8;\" x=\"321.055076\" xlink:href=\"#madbc3949ec\" y=\"226.166872\"/>\n      </g>\n     </g>\n     <g id=\"text_8\">\n      <!-- 10 -->\n      <defs>\n       <path d=\"M 12.40625 8.296875 \nL 28.515625 8.296875 \nL 28.515625 63.921875 \nL 10.984375 60.40625 \nL 10.984375 69.390625 \nL 28.421875 72.90625 \nL 38.28125 72.90625 \nL 38.28125 8.296875 \nL 54.390625 8.296875 \nL 54.390625 0 \nL 12.40625 0 \nz\n\" id=\"DejaVuSans-49\"/>\n      </defs>\n      <g transform=\"translate(314.692576 240.76531)scale(0.1 -0.1)\">\n       <use xlink:href=\"#DejaVuSans-49\"/>\n       <use x=\"63.623047\" xlink:href=\"#DejaVuSans-48\"/>\n      </g>\n     </g>\n    </g>\n    <g id=\"xtick_9\">\n     <g id=\"line2d_9\">\n      <g>\n       <use style=\"stroke:#000000;stroke-width:0.8;\" x=\"360.901835\" xlink:href=\"#madbc3949ec\" y=\"226.166872\"/>\n      </g>\n     </g>\n     <g id=\"text_9\">\n      <!-- 12 -->\n      <g transform=\"translate(354.539335 240.76531)scale(0.1 -0.1)\">\n       <use xlink:href=\"#DejaVuSans-49\"/>\n       <use x=\"63.623047\" xlink:href=\"#DejaVuSans-50\"/>\n      </g>\n     </g>\n    </g>\n   </g>\n   <g id=\"matplotlib.axis_2\">\n    <g id=\"ytick_1\">\n     <g id=\"line2d_10\">\n      <defs>\n       <path d=\"M 0 0 \nL -3.5 0 \n\" id=\"m192e7c41cf\" style=\"stroke:#000000;stroke-width:0.8;\"/>\n      </defs>\n      <g>\n       <use style=\"stroke:#000000;stroke-width:0.8;\" x=\"28.942188\" xlink:href=\"#m192e7c41cf\" y=\"211.917507\"/>\n      </g>\n     </g>\n     <g id=\"text_10\">\n      <!-- −2 -->\n      <g transform=\"translate(7.2 215.716726)scale(0.1 -0.1)\">\n       <use xlink:href=\"#DejaVuSans-8722\"/>\n       <use x=\"83.789062\" xlink:href=\"#DejaVuSans-50\"/>\n      </g>\n     </g>\n    </g>\n    <g id=\"ytick_2\">\n     <g id=\"line2d_11\">\n      <g>\n       <use style=\"stroke:#000000;stroke-width:0.8;\" x=\"28.942188\" xlink:href=\"#m192e7c41cf\" y=\"186.802721\"/>\n      </g>\n     </g>\n     <g id=\"text_11\">\n      <!-- −1 -->\n      <g transform=\"translate(7.2 190.60194)scale(0.1 -0.1)\">\n       <use xlink:href=\"#DejaVuSans-8722\"/>\n       <use x=\"83.789062\" xlink:href=\"#DejaVuSans-49\"/>\n      </g>\n     </g>\n    </g>\n    <g id=\"ytick_3\">\n     <g id=\"line2d_12\">\n      <g>\n       <use style=\"stroke:#000000;stroke-width:0.8;\" x=\"28.942188\" xlink:href=\"#m192e7c41cf\" y=\"161.687935\"/>\n      </g>\n     </g>\n     <g id=\"text_12\">\n      <!-- 0 -->\n      <g transform=\"translate(15.579688 165.487154)scale(0.1 -0.1)\">\n       <use xlink:href=\"#DejaVuSans-48\"/>\n      </g>\n     </g>\n    </g>\n    <g id=\"ytick_4\">\n     <g id=\"line2d_13\">\n      <g>\n       <use style=\"stroke:#000000;stroke-width:0.8;\" x=\"28.942188\" xlink:href=\"#m192e7c41cf\" y=\"136.573149\"/>\n      </g>\n     </g>\n     <g id=\"text_13\">\n      <!-- 1 -->\n      <g transform=\"translate(15.579688 140.372368)scale(0.1 -0.1)\">\n       <use xlink:href=\"#DejaVuSans-49\"/>\n      </g>\n     </g>\n    </g>\n    <g id=\"ytick_5\">\n     <g id=\"line2d_14\">\n      <g>\n       <use style=\"stroke:#000000;stroke-width:0.8;\" x=\"28.942188\" xlink:href=\"#m192e7c41cf\" y=\"111.458363\"/>\n      </g>\n     </g>\n     <g id=\"text_14\">\n      <!-- 2 -->\n      <g transform=\"translate(15.579688 115.257582)scale(0.1 -0.1)\">\n       <use xlink:href=\"#DejaVuSans-50\"/>\n      </g>\n     </g>\n    </g>\n    <g id=\"ytick_6\">\n     <g id=\"line2d_15\">\n      <g>\n       <use style=\"stroke:#000000;stroke-width:0.8;\" x=\"28.942188\" xlink:href=\"#m192e7c41cf\" y=\"86.343577\"/>\n      </g>\n     </g>\n     <g id=\"text_15\">\n      <!-- 3 -->\n      <defs>\n       <path d=\"M 40.578125 39.3125 \nQ 47.65625 37.796875 51.625 33 \nQ 55.609375 28.21875 55.609375 21.1875 \nQ 55.609375 10.40625 48.1875 4.484375 \nQ 40.765625 -1.421875 27.09375 -1.421875 \nQ 22.515625 -1.421875 17.65625 -0.515625 \nQ 12.796875 0.390625 7.625 2.203125 \nL 7.625 11.71875 \nQ 11.71875 9.328125 16.59375 8.109375 \nQ 21.484375 6.890625 26.8125 6.890625 \nQ 36.078125 6.890625 40.9375 10.546875 \nQ 45.796875 14.203125 45.796875 21.1875 \nQ 45.796875 27.640625 41.28125 31.265625 \nQ 36.765625 34.90625 28.71875 34.90625 \nL 20.21875 34.90625 \nL 20.21875 43.015625 \nL 29.109375 43.015625 \nQ 36.375 43.015625 40.234375 45.921875 \nQ 44.09375 48.828125 44.09375 54.296875 \nQ 44.09375 59.90625 40.109375 62.90625 \nQ 36.140625 65.921875 28.71875 65.921875 \nQ 24.65625 65.921875 20.015625 65.03125 \nQ 15.375 64.15625 9.8125 62.3125 \nL 9.8125 71.09375 \nQ 15.4375 72.65625 20.34375 73.4375 \nQ 25.25 74.21875 29.59375 74.21875 \nQ 40.828125 74.21875 47.359375 69.109375 \nQ 53.90625 64.015625 53.90625 55.328125 \nQ 53.90625 49.265625 50.4375 45.09375 \nQ 46.96875 40.921875 40.578125 39.3125 \nz\n\" id=\"DejaVuSans-51\"/>\n      </defs>\n      <g transform=\"translate(15.579688 90.142796)scale(0.1 -0.1)\">\n       <use xlink:href=\"#DejaVuSans-51\"/>\n      </g>\n     </g>\n    </g>\n    <g id=\"ytick_7\">\n     <g id=\"line2d_16\">\n      <g>\n       <use style=\"stroke:#000000;stroke-width:0.8;\" x=\"28.942188\" xlink:href=\"#m192e7c41cf\" y=\"61.228791\"/>\n      </g>\n     </g>\n     <g id=\"text_16\">\n      <!-- 4 -->\n      <g transform=\"translate(15.579688 65.02801)scale(0.1 -0.1)\">\n       <use xlink:href=\"#DejaVuSans-52\"/>\n      </g>\n     </g>\n    </g>\n    <g id=\"ytick_8\">\n     <g id=\"line2d_17\">\n      <g>\n       <use style=\"stroke:#000000;stroke-width:0.8;\" x=\"28.942188\" xlink:href=\"#m192e7c41cf\" y=\"36.114005\"/>\n      </g>\n     </g>\n     <g id=\"text_17\">\n      <!-- 5 -->\n      <defs>\n       <path d=\"M 10.796875 72.90625 \nL 49.515625 72.90625 \nL 49.515625 64.59375 \nL 19.828125 64.59375 \nL 19.828125 46.734375 \nQ 21.96875 47.46875 24.109375 47.828125 \nQ 26.265625 48.1875 28.421875 48.1875 \nQ 40.625 48.1875 47.75 41.5 \nQ 54.890625 34.8125 54.890625 23.390625 \nQ 54.890625 11.625 47.5625 5.09375 \nQ 40.234375 -1.421875 26.90625 -1.421875 \nQ 22.3125 -1.421875 17.546875 -0.640625 \nQ 12.796875 0.140625 7.71875 1.703125 \nL 7.71875 11.625 \nQ 12.109375 9.234375 16.796875 8.0625 \nQ 21.484375 6.890625 26.703125 6.890625 \nQ 35.15625 6.890625 40.078125 11.328125 \nQ 45.015625 15.765625 45.015625 23.390625 \nQ 45.015625 31 40.078125 35.4375 \nQ 35.15625 39.890625 26.703125 39.890625 \nQ 22.75 39.890625 18.8125 39.015625 \nQ 14.890625 38.140625 10.796875 36.28125 \nz\n\" id=\"DejaVuSans-53\"/>\n      </defs>\n      <g transform=\"translate(15.579688 39.913224)scale(0.1 -0.1)\">\n       <use xlink:href=\"#DejaVuSans-53\"/>\n      </g>\n     </g>\n    </g>\n    <g id=\"ytick_9\">\n     <g id=\"line2d_18\">\n      <g>\n       <use style=\"stroke:#000000;stroke-width:0.8;\" x=\"28.942188\" xlink:href=\"#m192e7c41cf\" y=\"10.999219\"/>\n      </g>\n     </g>\n     <g id=\"text_18\">\n      <!-- 6 -->\n      <g transform=\"translate(15.579688 14.798437)scale(0.1 -0.1)\">\n       <use xlink:href=\"#DejaVuSans-54\"/>\n      </g>\n     </g>\n    </g>\n   </g>\n   <g id=\"patch_3\">\n    <path d=\"M 28.942188 226.166872 \nL 28.942188 8.726872 \n\" style=\"fill:none;stroke:#000000;stroke-linecap:square;stroke-linejoin:miter;stroke-width:0.8;\"/>\n   </g>\n   <g id=\"patch_4\">\n    <path d=\"M 363.742188 226.166872 \nL 363.742188 8.726872 \n\" style=\"fill:none;stroke:#000000;stroke-linecap:square;stroke-linejoin:miter;stroke-width:0.8;\"/>\n   </g>\n   <g id=\"patch_5\">\n    <path d=\"M 28.942188 226.166872 \nL 363.742188 226.166872 \n\" style=\"fill:none;stroke:#000000;stroke-linecap:square;stroke-linejoin:miter;stroke-width:0.8;\"/>\n   </g>\n   <g id=\"patch_6\">\n    <path d=\"M 28.942188 8.726872 \nL 363.742188 8.726872 \n\" style=\"fill:none;stroke:#000000;stroke-linecap:square;stroke-linejoin:miter;stroke-width:0.8;\"/>\n   </g>\n  </g>\n </g>\n <defs>\n  <clipPath id=\"p10a49559fe\">\n   <rect height=\"217.44\" width=\"334.8\" x=\"28.942188\" y=\"8.726872\"/>\n  </clipPath>\n </defs>\n</svg>\n",
      "image/png": "[encoded data removed]"
     },
     "metadata": {
      "needs_background": "light"
     }
    }
   ],
   "source": [
    "plt.scatter(X1[:, 0], X1[:, 1], marker='o') "
   ]
  },
  {
   "cell_type": "markdown",
   "metadata": {},
   "source": [
    "<hr>\n",
    "<h3 id=\"agglomerative_clustering\">Agglomerative Clustering</h3>\n",
    "We will start by clustering the random data points we just created."
   ]
  },
  {
   "cell_type": "markdown",
   "metadata": {},
   "source": [
    "The <b> Agglomerative Clustering </b> class will require two inputs:\n",
    "<ul>\n",
    "    <li> <b>n_clusters</b>: The number of clusters to form as well as the number of centroids to generate. </li>\n",
    "    <ul> <li> Value will be: 4 </li> </ul>\n",
    "    <li> <b>linkage</b>: Which linkage criterion to use. The linkage criterion determines which distance to use between sets of observation. The algorithm will merge the pairs of cluster that minimize this criterion. </li>\n",
    "    <ul> \n",
    "        <li> Value will be: 'complete' </li> \n",
    "        <li> <b>Note</b>: It is recommended you try everything with 'average' as well </li>\n",
    "    </ul>\n",
    "</ul> <br>\n",
    "Save the result to a variable called <b> agglom </b>"
   ]
  },
  {
   "cell_type": "code",
   "execution_count": 4,
   "metadata": {
    "collapsed": true
   },
   "outputs": [],
   "source": [
    "agglom = AgglomerativeClustering(n_clusters = 4, linkage = 'average')"
   ]
  },
  {
   "cell_type": "markdown",
   "metadata": {},
   "source": [
    "Fit the model with <b> X2 </b> and <b> y2 </b> from the generated data above."
   ]
  },
  {
   "cell_type": "code",
   "execution_count": 5,
   "metadata": {
    "scrolled": true
   },
   "outputs": [
    {
     "output_type": "execute_result",
     "data": {
      "text/plain": "AgglomerativeClustering(affinity='euclidean', compute_full_tree='auto',\n                        connectivity=None, distance_threshold=None,\n                        linkage='average', memory=None, n_clusters=4)"
     },
     "metadata": {},
     "execution_count": 5
    }
   ],
   "source": [
    "agglom.fit(X1,y1)"
   ]
  },
  {
   "cell_type": "markdown",
   "metadata": {},
   "source": [
    "Run the following code to show the clustering! <br>\n",
    "Remember to read the code and comments to gain more understanding on how the plotting works."
   ]
  },
  {
   "cell_type": "code",
   "execution_count": 6,
   "metadata": {},
   "outputs": [
    {
     "output_type": "display_data",
     "data": {
      "text/plain": "<Figure size 432x288 with 1 Axes>",
      "image/svg+xml": "<?xml version=\"1.0\" encoding=\"utf-8\" standalone=\"no\"?>\n<!DOCTYPE svg PUBLIC \"-//W3C//DTD SVG 1.1//EN\"\n  \"http://www.w3.org/Graphics/SVG/1.1/DTD/svg11.dtd\">\n<!-- Created with matplotlib (https://matplotlib.org/) -->\n<svg height=\"235.34pt\" version=\"1.1\" viewBox=\"0 0 352.7 235.34\" width=\"352.7pt\" xmlns=\"http://www.w3.org/2000/svg\" xmlns:xlink=\"http://www.w3.org/1999/xlink\">\n <defs>\n  <style type=\"text/css\">\n*{stroke-linecap:butt;stroke-linejoin:round;}\n  </style>\n </defs>\n <g id=\"figure_1\">\n  <g id=\"patch_1\">\n   <path d=\"M 0 235.34 \nL 352.7 235.34 \nL 352.7 0 \nL 0 0 \nz\n\" style=\"fill:none;\"/>\n  </g>\n  <g id=\"axes_1\">\n   <g id=\"patch_2\">\n    <path d=\"M 10.7 224.64 \nL 345.5 224.64 \nL 345.5 7.2 \nL 10.7 7.2 \nz\n\" style=\"fill:#ffffff;\"/>\n   </g>\n   <g id=\"PathCollection_1\">\n    <defs>\n     <path d=\"M 0 1.5 \nC 0.397805 1.5 0.77937 1.341951 1.06066 1.06066 \nC 1.341951 0.77937 1.5 0.397805 1.5 0 \nC 1.5 -0.397805 1.341951 -0.77937 1.06066 -1.06066 \nC 0.77937 -1.341951 0.397805 -1.5 0 -1.5 \nC -0.397805 -1.5 -0.77937 -1.341951 -1.06066 -1.06066 \nC -1.341951 -0.77937 -1.5 -0.397805 -1.5 0 \nC -1.5 0.397805 -1.341951 0.77937 -1.06066 1.06066 \nC -0.77937 1.341951 -0.397805 1.5 0 1.5 \nz\n\" id=\"m5120f9b022\" style=\"stroke:#1f77b4;\"/>\n    </defs>\n    <g clip-path=\"url(#p83fdaef766)\">\n     <use style=\"fill:#1f77b4;stroke:#1f77b4;\" x=\"33.408237\" xlink:href=\"#m5120f9b022\" y=\"207.258674\"/>\n     <use style=\"fill:#1f77b4;stroke:#1f77b4;\" x=\"41.231609\" xlink:href=\"#m5120f9b022\" y=\"208.818177\"/>\n     <use style=\"fill:#1f77b4;stroke:#1f77b4;\" x=\"75.358564\" xlink:href=\"#m5120f9b022\" y=\"163.327108\"/>\n     <use style=\"fill:#1f77b4;stroke:#1f77b4;\" x=\"326.755799\" xlink:href=\"#m5120f9b022\" y=\"66.139657\"/>\n     <use style=\"fill:#1f77b4;stroke:#1f77b4;\" x=\"199.048367\" xlink:href=\"#m5120f9b022\" y=\"40.859525\"/>\n     <use style=\"fill:#1f77b4;stroke:#1f77b4;\" x=\"60.835855\" xlink:href=\"#m5120f9b022\" y=\"128.30058\"/>\n     <use style=\"fill:#1f77b4;stroke:#1f77b4;\" x=\"30.508159\" xlink:href=\"#m5120f9b022\" y=\"192.407605\"/>\n     <use style=\"fill:#1f77b4;stroke:#1f77b4;\" x=\"169.598653\" xlink:href=\"#m5120f9b022\" y=\"42.264847\"/>\n     <use style=\"fill:#1f77b4;stroke:#1f77b4;\" x=\"327.470758\" xlink:href=\"#m5120f9b022\" y=\"80.089276\"/>\n     <use style=\"fill:#1f77b4;stroke:#1f77b4;\" x=\"33.193651\" xlink:href=\"#m5120f9b022\" y=\"213.411285\"/>\n     <use style=\"fill:#1f77b4;stroke:#1f77b4;\" x=\"225.456516\" xlink:href=\"#m5120f9b022\" y=\"76.672666\"/>\n     <use style=\"fill:#1f77b4;stroke:#1f77b4;\" x=\"317.677876\" xlink:href=\"#m5120f9b022\" y=\"64.669916\"/>\n     <use style=\"fill:#1f77b4;stroke:#1f77b4;\" x=\"205.447666\" xlink:href=\"#m5120f9b022\" y=\"20.780432\"/>\n     <use style=\"fill:#1f77b4;stroke:#1f77b4;\" x=\"131.94384\" xlink:href=\"#m5120f9b022\" y=\"116.050367\"/>\n     <use style=\"fill:#1f77b4;stroke:#1f77b4;\" x=\"161.587609\" xlink:href=\"#m5120f9b022\" y=\"86.061328\"/>\n     <use style=\"fill:#1f77b4;stroke:#1f77b4;\" x=\"191.866363\" xlink:href=\"#m5120f9b022\" y=\"30.426363\"/>\n     <use style=\"fill:#1f77b4;stroke:#1f77b4;\" x=\"328.930292\" xlink:href=\"#m5120f9b022\" y=\"80.799591\"/>\n     <use style=\"fill:#1f77b4;stroke:#1f77b4;\" x=\"44.161396\" xlink:href=\"#m5120f9b022\" y=\"199.444951\"/>\n     <use style=\"fill:#1f77b4;stroke:#1f77b4;\" x=\"309.025741\" xlink:href=\"#m5120f9b022\" y=\"92.959376\"/>\n     <use style=\"fill:#1f77b4;stroke:#1f77b4;\" x=\"143.848382\" xlink:href=\"#m5120f9b022\" y=\"125.672804\"/>\n     <use style=\"fill:#1f77b4;stroke:#1f77b4;\" x=\"195.091478\" xlink:href=\"#m5120f9b022\" y=\"38.188028\"/>\n     <use style=\"fill:#1f77b4;stroke:#1f77b4;\" x=\"296.177313\" xlink:href=\"#m5120f9b022\" y=\"69.46305\"/>\n     <use style=\"fill:#1f77b4;stroke:#1f77b4;\" x=\"93.527797\" xlink:href=\"#m5120f9b022\" y=\"162.333177\"/>\n     <use style=\"fill:#1f77b4;stroke:#1f77b4;\" x=\"64.288322\" xlink:href=\"#m5120f9b022\" y=\"169.588681\"/>\n     <use style=\"fill:#1f77b4;stroke:#1f77b4;\" x=\"81.994097\" xlink:href=\"#m5120f9b022\" y=\"175.033937\"/>\n     <use style=\"fill:#1f77b4;stroke:#1f77b4;\" x=\"155.192051\" xlink:href=\"#m5120f9b022\" y=\"132.116566\"/>\n     <use style=\"fill:#1f77b4;stroke:#1f77b4;\" x=\"188.086848\" xlink:href=\"#m5120f9b022\" y=\"49.39433\"/>\n     <use style=\"fill:#1f77b4;stroke:#1f77b4;\" x=\"89.285937\" xlink:href=\"#m5120f9b022\" y=\"194.430126\"/>\n     <use style=\"fill:#1f77b4;stroke:#1f77b4;\" x=\"145.875162\" xlink:href=\"#m5120f9b022\" y=\"132.691231\"/>\n     <use style=\"fill:#1f77b4;stroke:#1f77b4;\" x=\"196.133373\" xlink:href=\"#m5120f9b022\" y=\"43.027313\"/>\n     <use style=\"fill:#1f77b4;stroke:#1f77b4;\" x=\"103.772872\" xlink:href=\"#m5120f9b022\" y=\"165.891633\"/>\n     <use style=\"fill:#1f77b4;stroke:#1f77b4;\" x=\"124.959554\" xlink:href=\"#m5120f9b022\" y=\"108.174789\"/>\n     <use style=\"fill:#1f77b4;stroke:#1f77b4;\" x=\"137.515082\" xlink:href=\"#m5120f9b022\" y=\"125.427163\"/>\n     <use style=\"fill:#1f77b4;stroke:#1f77b4;\" x=\"278.758392\" xlink:href=\"#m5120f9b022\" y=\"20.640679\"/>\n     <use style=\"fill:#1f77b4;stroke:#1f77b4;\" x=\"194.603249\" xlink:href=\"#m5120f9b022\" y=\"41.429292\"/>\n     <use style=\"fill:#1f77b4;stroke:#1f77b4;\" x=\"150.947713\" xlink:href=\"#m5120f9b022\" y=\"18.428715\"/>\n     <use style=\"fill:#1f77b4;stroke:#1f77b4;\" x=\"121.843821\" xlink:href=\"#m5120f9b022\" y=\"119.746756\"/>\n     <use style=\"fill:#1f77b4;stroke:#1f77b4;\" x=\"31.407919\" xlink:href=\"#m5120f9b022\" y=\"187.780346\"/>\n     <use style=\"fill:#1f77b4;stroke:#1f77b4;\" x=\"305.90347\" xlink:href=\"#m5120f9b022\" y=\"85.766586\"/>\n     <use style=\"fill:#1f77b4;stroke:#1f77b4;\" x=\"175.425338\" xlink:href=\"#m5120f9b022\" y=\"76.693652\"/>\n     <use style=\"fill:#1f77b4;stroke:#1f77b4;\" x=\"61.14902\" xlink:href=\"#m5120f9b022\" y=\"201.980676\"/>\n     <use style=\"fill:#1f77b4;stroke:#1f77b4;\" x=\"292.313268\" xlink:href=\"#m5120f9b022\" y=\"59.12901\"/>\n     <use style=\"fill:#1f77b4;stroke:#1f77b4;\" x=\"148.561272\" xlink:href=\"#m5120f9b022\" y=\"129.010835\"/>\n     <use style=\"fill:#1f77b4;stroke:#1f77b4;\" x=\"133.301003\" xlink:href=\"#m5120f9b022\" y=\"151.11238\"/>\n     <use style=\"fill:#1f77b4;stroke:#1f77b4;\" x=\"27.269708\" xlink:href=\"#m5120f9b022\" y=\"181.327977\"/>\n     <use style=\"fill:#1f77b4;stroke:#1f77b4;\" x=\"285.247658\" xlink:href=\"#m5120f9b022\" y=\"62.574445\"/>\n     <use style=\"fill:#1f77b4;stroke:#1f77b4;\" x=\"136.700835\" xlink:href=\"#m5120f9b022\" y=\"108.78164\"/>\n     <use style=\"fill:#1f77b4;stroke:#1f77b4;\" x=\"317.010419\" xlink:href=\"#m5120f9b022\" y=\"72.231895\"/>\n     <use style=\"fill:#1f77b4;stroke:#1f77b4;\" x=\"172.869895\" xlink:href=\"#m5120f9b022\" y=\"88.689029\"/>\n     <use style=\"fill:#1f77b4;stroke:#1f77b4;\" x=\"286.593165\" xlink:href=\"#m5120f9b022\" y=\"45.578823\"/>\n    </g>\n   </g>\n   <g id=\"matplotlib.axis_1\"/>\n   <g id=\"matplotlib.axis_2\"/>\n   <g id=\"patch_3\">\n    <path d=\"M 10.7 224.64 \nL 10.7 7.2 \n\" style=\"fill:none;stroke:#000000;stroke-linecap:square;stroke-linejoin:miter;stroke-width:0.8;\"/>\n   </g>\n   <g id=\"patch_4\">\n    <path d=\"M 345.5 224.64 \nL 345.5 7.2 \n\" style=\"fill:none;stroke:#000000;stroke-linecap:square;stroke-linejoin:miter;stroke-width:0.8;\"/>\n   </g>\n   <g id=\"patch_5\">\n    <path d=\"M 10.7 224.64 \nL 345.5 224.64 \n\" style=\"fill:none;stroke:#000000;stroke-linecap:square;stroke-linejoin:miter;stroke-width:0.8;\"/>\n   </g>\n   <g id=\"patch_6\">\n    <path d=\"M 10.7 7.2 \nL 345.5 7.2 \n\" style=\"fill:none;stroke:#000000;stroke-linecap:square;stroke-linejoin:miter;stroke-width:0.8;\"/>\n   </g>\n   <g id=\"text_1\">\n    <!-- 1 -->\n    <defs>\n     <path d=\"M 11.71875 12.984375 \nL 28.328125 12.984375 \nL 28.328125 60.109375 \nL 11.28125 56.59375 \nL 11.28125 69.390625 \nL 28.21875 72.90625 \nL 46.09375 72.90625 \nL 46.09375 12.984375 \nL 62.703125 12.984375 \nL 62.703125 0 \nL 11.71875 0 \nz\n\" id=\"DejaVuSans-Bold-49\"/>\n    </defs>\n    <g transform=\"translate(33.408237 207.258674)scale(0.09 -0.09)\">\n     <use xlink:href=\"#DejaVuSans-Bold-49\"/>\n    </g>\n   </g>\n   <g id=\"text_2\">\n    <!-- 1 -->\n    <g transform=\"translate(41.231609 208.818177)scale(0.09 -0.09)\">\n     <use xlink:href=\"#DejaVuSans-Bold-49\"/>\n    </g>\n   </g>\n   <g id=\"text_3\">\n    <!-- 1 -->\n    <g transform=\"translate(75.358564 163.327108)scale(0.09 -0.09)\">\n     <use xlink:href=\"#DejaVuSans-Bold-49\"/>\n    </g>\n   </g>\n   <g id=\"text_4\">\n    <!-- 3 -->\n    <defs>\n     <path d=\"M 46.578125 39.3125 \nQ 53.953125 37.40625 57.78125 32.6875 \nQ 61.625 27.984375 61.625 20.703125 \nQ 61.625 9.859375 53.3125 4.21875 \nQ 45.015625 -1.421875 29.109375 -1.421875 \nQ 23.484375 -1.421875 17.84375 -0.515625 \nQ 12.203125 0.390625 6.6875 2.203125 \nL 6.6875 16.703125 \nQ 11.96875 14.0625 17.15625 12.71875 \nQ 22.359375 11.375 27.390625 11.375 \nQ 34.859375 11.375 38.84375 13.953125 \nQ 42.828125 16.546875 42.828125 21.390625 \nQ 42.828125 26.375 38.75 28.9375 \nQ 34.671875 31.5 26.703125 31.5 \nL 19.1875 31.5 \nL 19.1875 43.609375 \nL 27.09375 43.609375 \nQ 34.1875 43.609375 37.640625 45.828125 \nQ 41.109375 48.046875 41.109375 52.59375 \nQ 41.109375 56.78125 37.734375 59.078125 \nQ 34.375 61.375 28.21875 61.375 \nQ 23.6875 61.375 19.046875 60.34375 \nQ 14.40625 59.328125 9.8125 57.328125 \nL 9.8125 71.09375 \nQ 15.375 72.65625 20.84375 73.4375 \nQ 26.3125 74.21875 31.59375 74.21875 \nQ 45.796875 74.21875 52.84375 69.546875 \nQ 59.90625 64.890625 59.90625 55.515625 \nQ 59.90625 49.125 56.53125 45.046875 \nQ 53.171875 40.96875 46.578125 39.3125 \nz\n\" id=\"DejaVuSans-Bold-51\"/>\n    </defs>\n    <g style=\"fill:#870098;\" transform=\"translate(326.755799 66.139657)scale(0.09 -0.09)\">\n     <use xlink:href=\"#DejaVuSans-Bold-51\"/>\n    </g>\n   </g>\n   <g id=\"text_5\">\n    <!-- 0 -->\n    <defs>\n     <path d=\"M 46 36.53125 \nQ 46 50.203125 43.4375 55.78125 \nQ 40.875 61.375 34.8125 61.375 \nQ 28.765625 61.375 26.171875 55.78125 \nQ 23.578125 50.203125 23.578125 36.53125 \nQ 23.578125 22.703125 26.171875 17.03125 \nQ 28.765625 11.375 34.8125 11.375 \nQ 40.828125 11.375 43.40625 17.03125 \nQ 46 22.703125 46 36.53125 \nz\nM 64.796875 36.375 \nQ 64.796875 18.265625 56.984375 8.421875 \nQ 49.171875 -1.421875 34.8125 -1.421875 \nQ 20.40625 -1.421875 12.59375 8.421875 \nQ 4.78125 18.265625 4.78125 36.375 \nQ 4.78125 54.546875 12.59375 64.375 \nQ 20.40625 74.21875 34.8125 74.21875 \nQ 49.171875 74.21875 56.984375 64.375 \nQ 64.796875 54.546875 64.796875 36.375 \nz\n\" id=\"DejaVuSans-Bold-48\"/>\n    </defs>\n    <g style=\"fill:#0000dd;\" transform=\"translate(199.048367 40.859525)scale(0.09 -0.09)\">\n     <use xlink:href=\"#DejaVuSans-Bold-48\"/>\n    </g>\n   </g>\n   <g id=\"text_6\">\n    <!-- 1 -->\n    <g transform=\"translate(60.835855 128.30058)scale(0.09 -0.09)\">\n     <use xlink:href=\"#DejaVuSans-Bold-49\"/>\n    </g>\n   </g>\n   <g id=\"text_7\">\n    <!-- 1 -->\n    <g transform=\"translate(30.508159 192.407605)scale(0.09 -0.09)\">\n     <use xlink:href=\"#DejaVuSans-Bold-49\"/>\n    </g>\n   </g>\n   <g id=\"text_8\">\n    <!-- 0 -->\n    <g style=\"fill:#0000dd;\" transform=\"translate(169.598653 42.264847)scale(0.09 -0.09)\">\n     <use xlink:href=\"#DejaVuSans-Bold-48\"/>\n    </g>\n   </g>\n   <g id=\"text_9\">\n    <!-- 3 -->\n    <g style=\"fill:#870098;\" transform=\"translate(327.470758 80.089276)scale(0.09 -0.09)\">\n     <use xlink:href=\"#DejaVuSans-Bold-51\"/>\n    </g>\n   </g>\n   <g id=\"text_10\">\n    <!-- 1 -->\n    <g transform=\"translate(33.193651 213.411285)scale(0.09 -0.09)\">\n     <use xlink:href=\"#DejaVuSans-Bold-49\"/>\n    </g>\n   </g>\n   <g id=\"text_11\">\n    <!-- 0 -->\n    <g style=\"fill:#0000dd;\" transform=\"translate(225.456516 76.672666)scale(0.09 -0.09)\">\n     <use xlink:href=\"#DejaVuSans-Bold-48\"/>\n    </g>\n   </g>\n   <g id=\"text_12\">\n    <!-- 3 -->\n    <g style=\"fill:#870098;\" transform=\"translate(317.677876 64.669916)scale(0.09 -0.09)\">\n     <use xlink:href=\"#DejaVuSans-Bold-51\"/>\n    </g>\n   </g>\n   <g id=\"text_13\">\n    <!-- 0 -->\n    <g style=\"fill:#0000dd;\" transform=\"translate(205.447666 20.780432)scale(0.09 -0.09)\">\n     <use xlink:href=\"#DejaVuSans-Bold-48\"/>\n    </g>\n   </g>\n   <g id=\"text_14\">\n    <!-- 2 -->\n    <defs>\n     <path d=\"M 28.8125 13.8125 \nL 60.890625 13.8125 \nL 60.890625 0 \nL 7.90625 0 \nL 7.90625 13.8125 \nL 34.515625 37.3125 \nQ 38.09375 40.53125 39.796875 43.609375 \nQ 41.5 46.6875 41.5 50 \nQ 41.5 55.125 38.0625 58.25 \nQ 34.625 61.375 28.90625 61.375 \nQ 24.515625 61.375 19.28125 59.5 \nQ 14.0625 57.625 8.109375 53.90625 \nL 8.109375 69.921875 \nQ 14.453125 72.015625 20.65625 73.109375 \nQ 26.859375 74.21875 32.8125 74.21875 \nQ 45.90625 74.21875 53.15625 68.453125 \nQ 60.40625 62.703125 60.40625 52.390625 \nQ 60.40625 46.4375 57.328125 41.28125 \nQ 54.25 36.140625 44.390625 27.484375 \nz\n\" id=\"DejaVuSans-Bold-50\"/>\n    </defs>\n    <g style=\"fill:#0098dd;\" transform=\"translate(131.94384 116.050367)scale(0.09 -0.09)\">\n     <use xlink:href=\"#DejaVuSans-Bold-50\"/>\n    </g>\n   </g>\n   <g id=\"text_15\">\n    <!-- 0 -->\n    <g style=\"fill:#0000dd;\" transform=\"translate(161.587609 86.061328)scale(0.09 -0.09)\">\n     <use xlink:href=\"#DejaVuSans-Bold-48\"/>\n    </g>\n   </g>\n   <g id=\"text_16\">\n    <!-- 0 -->\n    <g style=\"fill:#0000dd;\" transform=\"translate(191.866363 30.426363)scale(0.09 -0.09)\">\n     <use xlink:href=\"#DejaVuSans-Bold-48\"/>\n    </g>\n   </g>\n   <g id=\"text_17\">\n    <!-- 3 -->\n    <g style=\"fill:#870098;\" transform=\"translate(328.930292 80.799591)scale(0.09 -0.09)\">\n     <use xlink:href=\"#DejaVuSans-Bold-51\"/>\n    </g>\n   </g>\n   <g id=\"text_18\">\n    <!-- 1 -->\n    <g transform=\"translate(44.161396 199.444951)scale(0.09 -0.09)\">\n     <use xlink:href=\"#DejaVuSans-Bold-49\"/>\n    </g>\n   </g>\n   <g id=\"text_19\">\n    <!-- 3 -->\n    <g style=\"fill:#870098;\" transform=\"translate(309.025741 92.959376)scale(0.09 -0.09)\">\n     <use xlink:href=\"#DejaVuSans-Bold-51\"/>\n    </g>\n   </g>\n   <g id=\"text_20\">\n    <!-- 2 -->\n    <g style=\"fill:#0098dd;\" transform=\"translate(143.848382 125.672804)scale(0.09 -0.09)\">\n     <use xlink:href=\"#DejaVuSans-Bold-50\"/>\n    </g>\n   </g>\n   <g id=\"text_21\">\n    <!-- 0 -->\n    <g style=\"fill:#0000dd;\" transform=\"translate(195.091478 38.188028)scale(0.09 -0.09)\">\n     <use xlink:href=\"#DejaVuSans-Bold-48\"/>\n    </g>\n   </g>\n   <g id=\"text_22\">\n    <!-- 3 -->\n    <g style=\"fill:#870098;\" transform=\"translate(296.177313 69.46305)scale(0.09 -0.09)\">\n     <use xlink:href=\"#DejaVuSans-Bold-51\"/>\n    </g>\n   </g>\n   <g id=\"text_23\">\n    <!-- 2 -->\n    <g transform=\"translate(93.527797 162.333177)scale(0.09 -0.09)\">\n     <use xlink:href=\"#DejaVuSans-Bold-50\"/>\n    </g>\n   </g>\n   <g id=\"text_24\">\n    <!-- 1 -->\n    <g transform=\"translate(64.288322 169.588681)scale(0.09 -0.09)\">\n     <use xlink:href=\"#DejaVuSans-Bold-49\"/>\n    </g>\n   </g>\n   <g id=\"text_25\">\n    <!-- 1 -->\n    <g transform=\"translate(81.994097 175.033937)scale(0.09 -0.09)\">\n     <use xlink:href=\"#DejaVuSans-Bold-49\"/>\n    </g>\n   </g>\n   <g id=\"text_26\">\n    <!-- 2 -->\n    <g style=\"fill:#0098dd;\" transform=\"translate(155.192051 132.116566)scale(0.09 -0.09)\">\n     <use xlink:href=\"#DejaVuSans-Bold-50\"/>\n    </g>\n   </g>\n   <g id=\"text_27\">\n    <!-- 0 -->\n    <g style=\"fill:#0000dd;\" transform=\"translate(188.086848 49.39433)scale(0.09 -0.09)\">\n     <use xlink:href=\"#DejaVuSans-Bold-48\"/>\n    </g>\n   </g>\n   <g id=\"text_28\">\n    <!-- 1 -->\n    <g transform=\"translate(89.285937 194.430126)scale(0.09 -0.09)\">\n     <use xlink:href=\"#DejaVuSans-Bold-49\"/>\n    </g>\n   </g>\n   <g id=\"text_29\">\n    <!-- 2 -->\n    <g style=\"fill:#0098dd;\" transform=\"translate(145.875162 132.691231)scale(0.09 -0.09)\">\n     <use xlink:href=\"#DejaVuSans-Bold-50\"/>\n    </g>\n   </g>\n   <g id=\"text_30\">\n    <!-- 0 -->\n    <g style=\"fill:#0000dd;\" transform=\"translate(196.133373 43.027313)scale(0.09 -0.09)\">\n     <use xlink:href=\"#DejaVuSans-Bold-48\"/>\n    </g>\n   </g>\n   <g id=\"text_31\">\n    <!-- 2 -->\n    <g transform=\"translate(103.772872 165.891633)scale(0.09 -0.09)\">\n     <use xlink:href=\"#DejaVuSans-Bold-50\"/>\n    </g>\n   </g>\n   <g id=\"text_32\">\n    <!-- 2 -->\n    <g style=\"fill:#0098dd;\" transform=\"translate(124.959554 108.174789)scale(0.09 -0.09)\">\n     <use xlink:href=\"#DejaVuSans-Bold-50\"/>\n    </g>\n   </g>\n   <g id=\"text_33\">\n    <!-- 2 -->\n    <g style=\"fill:#0098dd;\" transform=\"translate(137.515082 125.427163)scale(0.09 -0.09)\">\n     <use xlink:href=\"#DejaVuSans-Bold-50\"/>\n    </g>\n   </g>\n   <g id=\"text_34\">\n    <!-- 3 -->\n    <g style=\"fill:#870098;\" transform=\"translate(278.758392 20.640679)scale(0.09 -0.09)\">\n     <use xlink:href=\"#DejaVuSans-Bold-51\"/>\n    </g>\n   </g>\n   <g id=\"text_35\">\n    <!-- 0 -->\n    <g style=\"fill:#0000dd;\" transform=\"translate(194.603249 41.429292)scale(0.09 -0.09)\">\n     <use xlink:href=\"#DejaVuSans-Bold-48\"/>\n    </g>\n   </g>\n   <g id=\"text_36\">\n    <!-- 0 -->\n    <g style=\"fill:#0000dd;\" transform=\"translate(150.947713 18.428715)scale(0.09 -0.09)\">\n     <use xlink:href=\"#DejaVuSans-Bold-48\"/>\n    </g>\n   </g>\n   <g id=\"text_37\">\n    <!-- 2 -->\n    <g style=\"fill:#0098dd;\" transform=\"translate(121.843821 119.746756)scale(0.09 -0.09)\">\n     <use xlink:href=\"#DejaVuSans-Bold-50\"/>\n    </g>\n   </g>\n   <g id=\"text_38\">\n    <!-- 1 -->\n    <g transform=\"translate(31.407919 187.780346)scale(0.09 -0.09)\">\n     <use xlink:href=\"#DejaVuSans-Bold-49\"/>\n    </g>\n   </g>\n   <g id=\"text_39\">\n    <!-- 3 -->\n    <g style=\"fill:#870098;\" transform=\"translate(305.90347 85.766586)scale(0.09 -0.09)\">\n     <use xlink:href=\"#DejaVuSans-Bold-51\"/>\n    </g>\n   </g>\n   <g id=\"text_40\">\n    <!-- 0 -->\n    <g style=\"fill:#0000dd;\" transform=\"translate(175.425338 76.693652)scale(0.09 -0.09)\">\n     <use xlink:href=\"#DejaVuSans-Bold-48\"/>\n    </g>\n   </g>\n   <g id=\"text_41\">\n    <!-- 1 -->\n    <g transform=\"translate(61.14902 201.980676)scale(0.09 -0.09)\">\n     <use xlink:href=\"#DejaVuSans-Bold-49\"/>\n    </g>\n   </g>\n   <g id=\"text_42\">\n    <!-- 3 -->\n    <g style=\"fill:#870098;\" transform=\"translate(292.313268 59.12901)scale(0.09 -0.09)\">\n     <use xlink:href=\"#DejaVuSans-Bold-51\"/>\n    </g>\n   </g>\n   <g id=\"text_43\">\n    <!-- 2 -->\n    <g style=\"fill:#0098dd;\" transform=\"translate(148.561272 129.010835)scale(0.09 -0.09)\">\n     <use xlink:href=\"#DejaVuSans-Bold-50\"/>\n    </g>\n   </g>\n   <g id=\"text_44\">\n    <!-- 2 -->\n    <g style=\"fill:#0098dd;\" transform=\"translate(133.301003 151.11238)scale(0.09 -0.09)\">\n     <use xlink:href=\"#DejaVuSans-Bold-50\"/>\n    </g>\n   </g>\n   <g id=\"text_45\">\n    <!-- 1 -->\n    <g transform=\"translate(27.269708 181.327977)scale(0.09 -0.09)\">\n     <use xlink:href=\"#DejaVuSans-Bold-49\"/>\n    </g>\n   </g>\n   <g id=\"text_46\">\n    <!-- 3 -->\n    <g style=\"fill:#870098;\" transform=\"translate(285.247658 62.574445)scale(0.09 -0.09)\">\n     <use xlink:href=\"#DejaVuSans-Bold-51\"/>\n    </g>\n   </g>\n   <g id=\"text_47\">\n    <!-- 2 -->\n    <g style=\"fill:#0098dd;\" transform=\"translate(136.700835 108.78164)scale(0.09 -0.09)\">\n     <use xlink:href=\"#DejaVuSans-Bold-50\"/>\n    </g>\n   </g>\n   <g id=\"text_48\">\n    <!-- 3 -->\n    <g style=\"fill:#870098;\" transform=\"translate(317.010419 72.231895)scale(0.09 -0.09)\">\n     <use xlink:href=\"#DejaVuSans-Bold-51\"/>\n    </g>\n   </g>\n   <g id=\"text_49\">\n    <!-- 0 -->\n    <g style=\"fill:#0000dd;\" transform=\"translate(172.869895 88.689029)scale(0.09 -0.09)\">\n     <use xlink:href=\"#DejaVuSans-Bold-48\"/>\n    </g>\n   </g>\n   <g id=\"text_50\">\n    <!-- 3 -->\n    <g style=\"fill:#870098;\" transform=\"translate(286.593165 45.578823)scale(0.09 -0.09)\">\n     <use xlink:href=\"#DejaVuSans-Bold-51\"/>\n    </g>\n   </g>\n  </g>\n </g>\n <defs>\n  <clipPath id=\"p83fdaef766\">\n   <rect height=\"217.44\" width=\"334.8\" x=\"10.7\" y=\"7.2\"/>\n  </clipPath>\n </defs>\n</svg>\n",
      "image/png": "[encoded data removed]"
     },
     "metadata": {}
    }
   ],
   "source": [
    "# Create a figure of size 6 inches by 4 inches.\n",
    "plt.figure(figsize=(6,4))\n",
    "\n",
    "# These two lines of code are used to scale the data points down,\n",
    "# Or else the data points will be scattered very far apart.\n",
    "\n",
    "# Create a minimum and maximum range of X1.\n",
    "x_min, x_max = np.min(X1, axis=0), np.max(X1, axis=0)\n",
    "\n",
    "# Get the average distance for X1.\n",
    "X1 = (X1 - x_min) / (x_max - x_min)\n",
    "\n",
    "# This loop displays all of the datapoints.\n",
    "for i in range(X1.shape[0]):\n",
    "    # Replace the data points with their respective cluster value \n",
    "    # (ex. 0) and is color coded with a colormap (plt.cm.spectral)\n",
    "    plt.text(X1[i, 0], X1[i, 1], str(y1[i]),\n",
    "             color=plt.cm.nipy_spectral(agglom.labels_[i] / 10.),\n",
    "             fontdict={'weight': 'bold', 'size': 9})\n",
    "    \n",
    "# Remove the x ticks, y ticks, x and y axis\n",
    "plt.xticks([])\n",
    "plt.yticks([])\n",
    "#plt.axis('off')\n",
    "\n",
    "\n",
    "\n",
    "# Display the plot of the original data before clustering\n",
    "plt.scatter(X1[:, 0], X1[:, 1], marker='.')\n",
    "# Display the plot\n",
    "plt.show()"
   ]
  },
  {
   "cell_type": "markdown",
   "metadata": {},
   "source": [
    "\n",
    "<h3 id=\"dendrogram\">Dendrogram Associated for the Agglomerative Hierarchical Clustering</h3>\n",
    "Remember that a <b>distance matrix</b> contains the <b> distance from each point to every other point of a dataset </b>. <br>\n",
    "Use the function <b> distance_matrix, </b> which requires <b>two inputs</b>. Use the Feature Matrix, <b> X2 </b> as both inputs and save the distance matrix to a variable called <b> dist_matrix </b> <br> <br>\n",
    "Remember that the distance values are symmetric, with a diagonal of 0's. This is one way of making sure your matrix is correct. <br> (print out dist_matrix to make sure it's correct)"
   ]
  },
  {
   "cell_type": "code",
   "execution_count": 7,
   "metadata": {
    "scrolled": true,
    "tags": []
   },
   "outputs": [
    {
     "output_type": "stream",
     "name": "stdout",
     "text": "[[0.         0.02713967 0.26477099 ... 1.16765698 0.76388724 1.17983321]\n [0.02713967 0.         0.25928993 ... 1.15172621 0.75498881 1.16725041]\n [0.26477099 0.25928993 0.         ... 0.92735599 0.50101949 0.92467283]\n ...\n [1.16765698 1.15172621 0.92735599 ... 0.         0.48522078 0.16986071]\n [0.76388724 0.75498881 0.50101949 ... 0.48522078 0.         0.43704266]\n [1.17983321 1.16725041 0.92467283 ... 0.16986071 0.43704266 0.        ]]\n"
    }
   ],
   "source": [
    "dist_matrix = distance_matrix(X1,X1) \n",
    "print(dist_matrix)"
   ]
  },
  {
   "cell_type": "markdown",
   "metadata": {},
   "source": [
    "Using the <b> linkage </b> class from hierarchy, pass in the parameters:\n",
    "<ul>\n",
    "    <li> The distance matrix </li>\n",
    "    <li> 'complete' for complete linkage </li>\n",
    "</ul> <br>\n",
    "Save the result to a variable called <b> Z </b>"
   ]
  },
  {
   "cell_type": "code",
   "execution_count": 8,
   "metadata": {},
   "outputs": [],
   "source": [
    "Z = hierarchy.linkage(dist_matrix, 'complete')"
   ]
  },
  {
   "cell_type": "markdown",
   "metadata": {},
   "source": [
    "A Hierarchical clustering is typically visualized as a dendrogram as shown in the following cell. Each merge is represented by a horizontal line. The y-coordinate of the horizontal line is the similarity of the two clusters that were merged, where cities are viewed as singleton clusters. \n",
    "By moving up from the bottom layer to the top node, a dendrogram allows us to reconstruct the history of merges that resulted in the depicted clustering. \n",
    "\n",
    "Next, we will save the dendrogram to a variable called <b>dendro</b>. In doing this, the dendrogram will also be displayed.\n",
    "Using the <b> dendrogram </b> class from hierarchy, pass in the parameter:\n",
    "<ul> <li> Z </li> </ul>"
   ]
  },
  {
   "cell_type": "code",
   "execution_count": 9,
   "metadata": {},
   "outputs": [
    {
     "output_type": "display_data",
     "data": {
      "text/plain": "<Figure size 432x288 with 1 Axes>",
      "image/svg+xml": "<?xml version=\"1.0\" encoding=\"utf-8\" standalone=\"no\"?>\n<!DOCTYPE svg PUBLIC \"-//W3C//DTD SVG 1.1//EN\"\n  \"http://www.w3.org/Graphics/SVG/1.1/DTD/svg11.dtd\">\n<!-- Created with matplotlib (https://matplotlib.org/) -->\n<svg height=\"249.02pt\" version=\"1.1\" viewBox=\"0 0 363.08575 249.02\" width=\"363.08575pt\" xmlns=\"http://www.w3.org/2000/svg\" xmlns:xlink=\"http://www.w3.org/1999/xlink\">\n <defs>\n  <style type=\"text/css\">\n*{stroke-linecap:butt;stroke-linejoin:round;}\n  </style>\n </defs>\n <g id=\"figure_1\">\n  <g id=\"patch_1\">\n   <path d=\"M 0 249.02 \nL 363.08575 249.02 \nL 363.08575 0 \nL 0 0 \nz\n\" style=\"fill:none;\"/>\n  </g>\n  <g id=\"axes_1\">\n   <g id=\"patch_2\">\n    <path d=\"M 20.5625 224.64 \nL 355.3625 224.64 \nL 355.3625 7.2 \nL 20.5625 7.2 \nz\n\" style=\"fill:#ffffff;\"/>\n   </g>\n   <g id=\"matplotlib.axis_1\">\n    <g id=\"xtick_1\">\n     <g id=\"text_1\">\n      <!-- 33 -->\n      <defs>\n       <path d=\"M 40.578125 39.3125 \nQ 47.65625 37.796875 51.625 33 \nQ 55.609375 28.21875 55.609375 21.1875 \nQ 55.609375 10.40625 48.1875 4.484375 \nQ 40.765625 -1.421875 27.09375 -1.421875 \nQ 22.515625 -1.421875 17.65625 -0.515625 \nQ 12.796875 0.390625 7.625 2.203125 \nL 7.625 11.71875 \nQ 11.71875 9.328125 16.59375 8.109375 \nQ 21.484375 6.890625 26.8125 6.890625 \nQ 36.078125 6.890625 40.9375 10.546875 \nQ 45.796875 14.203125 45.796875 21.1875 \nQ 45.796875 27.640625 41.28125 31.265625 \nQ 36.765625 34.90625 28.71875 34.90625 \nL 20.21875 34.90625 \nL 20.21875 43.015625 \nL 29.109375 43.015625 \nQ 36.375 43.015625 40.234375 45.921875 \nQ 44.09375 48.828125 44.09375 54.296875 \nQ 44.09375 59.90625 40.109375 62.90625 \nQ 36.140625 65.921875 28.71875 65.921875 \nQ 24.65625 65.921875 20.015625 65.03125 \nQ 15.375 64.15625 9.8125 62.3125 \nL 9.8125 71.09375 \nQ 15.4375 72.65625 20.34375 73.4375 \nQ 25.25 74.21875 29.59375 74.21875 \nQ 40.828125 74.21875 47.359375 69.109375 \nQ 53.90625 64.015625 53.90625 55.328125 \nQ 53.90625 49.265625 50.4375 45.09375 \nQ 46.96875 40.921875 40.578125 39.3125 \nz\n\" id=\"DejaVuSans-51\"/>\n      </defs>\n      <g transform=\"translate(26.118 241.82)rotate(-90)scale(0.08 -0.08)\">\n       <use xlink:href=\"#DejaVuSans-51\"/>\n       <use x=\"63.623047\" xlink:href=\"#DejaVuSans-51\"/>\n      </g>\n     </g>\n    </g>\n    <g id=\"xtick_2\">\n     <g id=\"text_2\">\n      <!-- 49 -->\n      <defs>\n       <path d=\"M 37.796875 64.3125 \nL 12.890625 25.390625 \nL 37.796875 25.390625 \nz\nM 35.203125 72.90625 \nL 47.609375 72.90625 \nL 47.609375 25.390625 \nL 58.015625 25.390625 \nL 58.015625 17.1875 \nL 47.609375 17.1875 \nL 47.609375 0 \nL 37.796875 0 \nL 37.796875 17.1875 \nL 4.890625 17.1875 \nL 4.890625 26.703125 \nz\n\" id=\"DejaVuSans-52\"/>\n       <path d=\"M 10.984375 1.515625 \nL 10.984375 10.5 \nQ 14.703125 8.734375 18.5 7.8125 \nQ 22.3125 6.890625 25.984375 6.890625 \nQ 35.75 6.890625 40.890625 13.453125 \nQ 46.046875 20.015625 46.78125 33.40625 \nQ 43.953125 29.203125 39.59375 26.953125 \nQ 35.25 24.703125 29.984375 24.703125 \nQ 19.046875 24.703125 12.671875 31.3125 \nQ 6.296875 37.9375 6.296875 49.421875 \nQ 6.296875 60.640625 12.9375 67.421875 \nQ 19.578125 74.21875 30.609375 74.21875 \nQ 43.265625 74.21875 49.921875 64.515625 \nQ 56.59375 54.828125 56.59375 36.375 \nQ 56.59375 19.140625 48.40625 8.859375 \nQ 40.234375 -1.421875 26.421875 -1.421875 \nQ 22.703125 -1.421875 18.890625 -0.6875 \nQ 15.09375 0.046875 10.984375 1.515625 \nz\nM 30.609375 32.421875 \nQ 37.25 32.421875 41.125 36.953125 \nQ 45.015625 41.5 45.015625 49.421875 \nQ 45.015625 57.28125 41.125 61.84375 \nQ 37.25 66.40625 30.609375 66.40625 \nQ 23.96875 66.40625 20.09375 61.84375 \nQ 16.21875 57.28125 16.21875 49.421875 \nQ 16.21875 41.5 20.09375 36.953125 \nQ 23.96875 32.421875 30.609375 32.421875 \nz\n\" id=\"DejaVuSans-57\"/>\n      </defs>\n      <g transform=\"translate(32.814 241.82)rotate(-90)scale(0.08 -0.08)\">\n       <use xlink:href=\"#DejaVuSans-52\"/>\n       <use x=\"63.623047\" xlink:href=\"#DejaVuSans-57\"/>\n      </g>\n     </g>\n    </g>\n    <g id=\"xtick_3\">\n     <g id=\"text_3\">\n      <!-- 21 -->\n      <defs>\n       <path d=\"M 19.1875 8.296875 \nL 53.609375 8.296875 \nL 53.609375 0 \nL 7.328125 0 \nL 7.328125 8.296875 \nQ 12.9375 14.109375 22.625 23.890625 \nQ 32.328125 33.6875 34.8125 36.53125 \nQ 39.546875 41.84375 41.421875 45.53125 \nQ 43.3125 49.21875 43.3125 52.78125 \nQ 43.3125 58.59375 39.234375 62.25 \nQ 35.15625 65.921875 28.609375 65.921875 \nQ 23.96875 65.921875 18.8125 64.3125 \nQ 13.671875 62.703125 7.8125 59.421875 \nL 7.8125 69.390625 \nQ 13.765625 71.78125 18.9375 73 \nQ 24.125 74.21875 28.421875 74.21875 \nQ 39.75 74.21875 46.484375 68.546875 \nQ 53.21875 62.890625 53.21875 53.421875 \nQ 53.21875 48.921875 51.53125 44.890625 \nQ 49.859375 40.875 45.40625 35.40625 \nQ 44.1875 33.984375 37.640625 27.21875 \nQ 31.109375 20.453125 19.1875 8.296875 \nz\n\" id=\"DejaVuSans-50\"/>\n       <path d=\"M 12.40625 8.296875 \nL 28.515625 8.296875 \nL 28.515625 63.921875 \nL 10.984375 60.40625 \nL 10.984375 69.390625 \nL 28.421875 72.90625 \nL 38.28125 72.90625 \nL 38.28125 8.296875 \nL 54.390625 8.296875 \nL 54.390625 0 \nL 12.40625 0 \nz\n\" id=\"DejaVuSans-49\"/>\n      </defs>\n      <g transform=\"translate(39.51 241.82)rotate(-90)scale(0.08 -0.08)\">\n       <use xlink:href=\"#DejaVuSans-50\"/>\n       <use x=\"63.623047\" xlink:href=\"#DejaVuSans-49\"/>\n      </g>\n     </g>\n    </g>\n    <g id=\"xtick_4\">\n     <g id=\"text_4\">\n      <!-- 41 -->\n      <g transform=\"translate(46.206 241.82)rotate(-90)scale(0.08 -0.08)\">\n       <use xlink:href=\"#DejaVuSans-52\"/>\n       <use x=\"63.623047\" xlink:href=\"#DejaVuSans-49\"/>\n      </g>\n     </g>\n    </g>\n    <g id=\"xtick_5\">\n     <g id=\"text_5\">\n      <!-- 45 -->\n      <defs>\n       <path d=\"M 10.796875 72.90625 \nL 49.515625 72.90625 \nL 49.515625 64.59375 \nL 19.828125 64.59375 \nL 19.828125 46.734375 \nQ 21.96875 47.46875 24.109375 47.828125 \nQ 26.265625 48.1875 28.421875 48.1875 \nQ 40.625 48.1875 47.75 41.5 \nQ 54.890625 34.8125 54.890625 23.390625 \nQ 54.890625 11.625 47.5625 5.09375 \nQ 40.234375 -1.421875 26.90625 -1.421875 \nQ 22.3125 -1.421875 17.546875 -0.640625 \nQ 12.796875 0.140625 7.71875 1.703125 \nL 7.71875 11.625 \nQ 12.109375 9.234375 16.796875 8.0625 \nQ 21.484375 6.890625 26.703125 6.890625 \nQ 35.15625 6.890625 40.078125 11.328125 \nQ 45.015625 15.765625 45.015625 23.390625 \nQ 45.015625 31 40.078125 35.4375 \nQ 35.15625 39.890625 26.703125 39.890625 \nQ 22.75 39.890625 18.8125 39.015625 \nQ 14.890625 38.140625 10.796875 36.28125 \nz\n\" id=\"DejaVuSans-53\"/>\n      </defs>\n      <g transform=\"translate(52.902 241.82)rotate(-90)scale(0.08 -0.08)\">\n       <use xlink:href=\"#DejaVuSans-52\"/>\n       <use x=\"63.623047\" xlink:href=\"#DejaVuSans-53\"/>\n      </g>\n     </g>\n    </g>\n    <g id=\"xtick_6\">\n     <g id=\"text_6\">\n      <!-- 18 -->\n      <defs>\n       <path d=\"M 31.78125 34.625 \nQ 24.75 34.625 20.71875 30.859375 \nQ 16.703125 27.09375 16.703125 20.515625 \nQ 16.703125 13.921875 20.71875 10.15625 \nQ 24.75 6.390625 31.78125 6.390625 \nQ 38.8125 6.390625 42.859375 10.171875 \nQ 46.921875 13.96875 46.921875 20.515625 \nQ 46.921875 27.09375 42.890625 30.859375 \nQ 38.875 34.625 31.78125 34.625 \nz\nM 21.921875 38.8125 \nQ 15.578125 40.375 12.03125 44.71875 \nQ 8.5 49.078125 8.5 55.328125 \nQ 8.5 64.0625 14.71875 69.140625 \nQ 20.953125 74.21875 31.78125 74.21875 \nQ 42.671875 74.21875 48.875 69.140625 \nQ 55.078125 64.0625 55.078125 55.328125 \nQ 55.078125 49.078125 51.53125 44.71875 \nQ 48 40.375 41.703125 38.8125 \nQ 48.828125 37.15625 52.796875 32.3125 \nQ 56.78125 27.484375 56.78125 20.515625 \nQ 56.78125 9.90625 50.3125 4.234375 \nQ 43.84375 -1.421875 31.78125 -1.421875 \nQ 19.734375 -1.421875 13.25 4.234375 \nQ 6.78125 9.90625 6.78125 20.515625 \nQ 6.78125 27.484375 10.78125 32.3125 \nQ 14.796875 37.15625 21.921875 38.8125 \nz\nM 18.3125 54.390625 \nQ 18.3125 48.734375 21.84375 45.5625 \nQ 25.390625 42.390625 31.78125 42.390625 \nQ 38.140625 42.390625 41.71875 45.5625 \nQ 45.3125 48.734375 45.3125 54.390625 \nQ 45.3125 60.0625 41.71875 63.234375 \nQ 38.140625 66.40625 31.78125 66.40625 \nQ 25.390625 66.40625 21.84375 63.234375 \nQ 18.3125 60.0625 18.3125 54.390625 \nz\n\" id=\"DejaVuSans-56\"/>\n      </defs>\n      <g transform=\"translate(59.598 241.82)rotate(-90)scale(0.08 -0.08)\">\n       <use xlink:href=\"#DejaVuSans-49\"/>\n       <use x=\"63.623047\" xlink:href=\"#DejaVuSans-56\"/>\n      </g>\n     </g>\n    </g>\n    <g id=\"xtick_7\">\n     <g id=\"text_7\">\n      <!-- 38 -->\n      <g transform=\"translate(66.294 241.82)rotate(-90)scale(0.08 -0.08)\">\n       <use xlink:href=\"#DejaVuSans-51\"/>\n       <use x=\"63.623047\" xlink:href=\"#DejaVuSans-56\"/>\n      </g>\n     </g>\n    </g>\n    <g id=\"xtick_8\">\n     <g id=\"text_8\">\n      <!-- 8 -->\n      <g transform=\"translate(72.99 236.73)rotate(-90)scale(0.08 -0.08)\">\n       <use xlink:href=\"#DejaVuSans-56\"/>\n      </g>\n     </g>\n    </g>\n    <g id=\"xtick_9\">\n     <g id=\"text_9\">\n      <!-- 16 -->\n      <defs>\n       <path d=\"M 33.015625 40.375 \nQ 26.375 40.375 22.484375 35.828125 \nQ 18.609375 31.296875 18.609375 23.390625 \nQ 18.609375 15.53125 22.484375 10.953125 \nQ 26.375 6.390625 33.015625 6.390625 \nQ 39.65625 6.390625 43.53125 10.953125 \nQ 47.40625 15.53125 47.40625 23.390625 \nQ 47.40625 31.296875 43.53125 35.828125 \nQ 39.65625 40.375 33.015625 40.375 \nz\nM 52.59375 71.296875 \nL 52.59375 62.3125 \nQ 48.875 64.0625 45.09375 64.984375 \nQ 41.3125 65.921875 37.59375 65.921875 \nQ 27.828125 65.921875 22.671875 59.328125 \nQ 17.53125 52.734375 16.796875 39.40625 \nQ 19.671875 43.65625 24.015625 45.921875 \nQ 28.375 48.1875 33.59375 48.1875 \nQ 44.578125 48.1875 50.953125 41.515625 \nQ 57.328125 34.859375 57.328125 23.390625 \nQ 57.328125 12.15625 50.6875 5.359375 \nQ 44.046875 -1.421875 33.015625 -1.421875 \nQ 20.359375 -1.421875 13.671875 8.265625 \nQ 6.984375 17.96875 6.984375 36.375 \nQ 6.984375 53.65625 15.1875 63.9375 \nQ 23.390625 74.21875 37.203125 74.21875 \nQ 40.921875 74.21875 44.703125 73.484375 \nQ 48.484375 72.75 52.59375 71.296875 \nz\n\" id=\"DejaVuSans-54\"/>\n      </defs>\n      <g transform=\"translate(79.686 241.82)rotate(-90)scale(0.08 -0.08)\">\n       <use xlink:href=\"#DejaVuSans-49\"/>\n       <use x=\"63.623047\" xlink:href=\"#DejaVuSans-54\"/>\n      </g>\n     </g>\n    </g>\n    <g id=\"xtick_10\">\n     <g id=\"text_10\">\n      <!-- 3 -->\n      <g transform=\"translate(86.382 236.73)rotate(-90)scale(0.08 -0.08)\">\n       <use xlink:href=\"#DejaVuSans-51\"/>\n      </g>\n     </g>\n    </g>\n    <g id=\"xtick_11\">\n     <g id=\"text_11\">\n      <!-- 11 -->\n      <g transform=\"translate(93.078 241.82)rotate(-90)scale(0.08 -0.08)\">\n       <use xlink:href=\"#DejaVuSans-49\"/>\n       <use x=\"63.623047\" xlink:href=\"#DejaVuSans-49\"/>\n      </g>\n     </g>\n    </g>\n    <g id=\"xtick_12\">\n     <g id=\"text_12\">\n      <!-- 47 -->\n      <defs>\n       <path d=\"M 8.203125 72.90625 \nL 55.078125 72.90625 \nL 55.078125 68.703125 \nL 28.609375 0 \nL 18.3125 0 \nL 43.21875 64.59375 \nL 8.203125 64.59375 \nz\n\" id=\"DejaVuSans-55\"/>\n      </defs>\n      <g transform=\"translate(99.774 241.82)rotate(-90)scale(0.08 -0.08)\">\n       <use xlink:href=\"#DejaVuSans-52\"/>\n       <use x=\"63.623047\" xlink:href=\"#DejaVuSans-55\"/>\n      </g>\n     </g>\n    </g>\n    <g id=\"xtick_13\">\n     <g id=\"text_13\">\n      <!-- 7 -->\n      <g transform=\"translate(106.47 236.73)rotate(-90)scale(0.08 -0.08)\">\n       <use xlink:href=\"#DejaVuSans-55\"/>\n      </g>\n     </g>\n    </g>\n    <g id=\"xtick_14\">\n     <g id=\"text_14\">\n      <!-- 26 -->\n      <g transform=\"translate(113.166 241.82)rotate(-90)scale(0.08 -0.08)\">\n       <use xlink:href=\"#DejaVuSans-50\"/>\n       <use x=\"63.623047\" xlink:href=\"#DejaVuSans-54\"/>\n      </g>\n     </g>\n    </g>\n    <g id=\"xtick_15\">\n     <g id=\"text_15\">\n      <!-- 15 -->\n      <g transform=\"translate(119.862 241.82)rotate(-90)scale(0.08 -0.08)\">\n       <use xlink:href=\"#DejaVuSans-49\"/>\n       <use x=\"63.623047\" xlink:href=\"#DejaVuSans-53\"/>\n      </g>\n     </g>\n    </g>\n    <g id=\"xtick_16\">\n     <g id=\"text_16\">\n      <!-- 29 -->\n      <g transform=\"translate(126.558 241.82)rotate(-90)scale(0.08 -0.08)\">\n       <use xlink:href=\"#DejaVuSans-50\"/>\n       <use x=\"63.623047\" xlink:href=\"#DejaVuSans-57\"/>\n      </g>\n     </g>\n    </g>\n    <g id=\"xtick_17\">\n     <g id=\"text_17\">\n      <!-- 34 -->\n      <g transform=\"translate(133.254 241.82)rotate(-90)scale(0.08 -0.08)\">\n       <use xlink:href=\"#DejaVuSans-51\"/>\n       <use x=\"63.623047\" xlink:href=\"#DejaVuSans-52\"/>\n      </g>\n     </g>\n    </g>\n    <g id=\"xtick_18\">\n     <g id=\"text_18\">\n      <!-- 4 -->\n      <g transform=\"translate(139.95 236.73)rotate(-90)scale(0.08 -0.08)\">\n       <use xlink:href=\"#DejaVuSans-52\"/>\n      </g>\n     </g>\n    </g>\n    <g id=\"xtick_19\">\n     <g id=\"text_19\">\n      <!-- 20 -->\n      <defs>\n       <path d=\"M 31.78125 66.40625 \nQ 24.171875 66.40625 20.328125 58.90625 \nQ 16.5 51.421875 16.5 36.375 \nQ 16.5 21.390625 20.328125 13.890625 \nQ 24.171875 6.390625 31.78125 6.390625 \nQ 39.453125 6.390625 43.28125 13.890625 \nQ 47.125 21.390625 47.125 36.375 \nQ 47.125 51.421875 43.28125 58.90625 \nQ 39.453125 66.40625 31.78125 66.40625 \nz\nM 31.78125 74.21875 \nQ 44.046875 74.21875 50.515625 64.515625 \nQ 56.984375 54.828125 56.984375 36.375 \nQ 56.984375 17.96875 50.515625 8.265625 \nQ 44.046875 -1.421875 31.78125 -1.421875 \nQ 19.53125 -1.421875 13.0625 8.265625 \nQ 6.59375 17.96875 6.59375 36.375 \nQ 6.59375 54.828125 13.0625 64.515625 \nQ 19.53125 74.21875 31.78125 74.21875 \nz\n\" id=\"DejaVuSans-48\"/>\n      </defs>\n      <g transform=\"translate(146.646 241.82)rotate(-90)scale(0.08 -0.08)\">\n       <use xlink:href=\"#DejaVuSans-50\"/>\n       <use x=\"63.623047\" xlink:href=\"#DejaVuSans-48\"/>\n      </g>\n     </g>\n    </g>\n    <g id=\"xtick_20\">\n     <g id=\"text_20\">\n      <!-- 12 -->\n      <g transform=\"translate(153.342 241.82)rotate(-90)scale(0.08 -0.08)\">\n       <use xlink:href=\"#DejaVuSans-49\"/>\n       <use x=\"63.623047\" xlink:href=\"#DejaVuSans-50\"/>\n      </g>\n     </g>\n    </g>\n    <g id=\"xtick_21\">\n     <g id=\"text_21\">\n      <!-- 35 -->\n      <g transform=\"translate(160.038 241.82)rotate(-90)scale(0.08 -0.08)\">\n       <use xlink:href=\"#DejaVuSans-51\"/>\n       <use x=\"63.623047\" xlink:href=\"#DejaVuSans-53\"/>\n      </g>\n     </g>\n    </g>\n    <g id=\"xtick_22\">\n     <g id=\"text_22\">\n      <!-- 10 -->\n      <g transform=\"translate(166.734 241.82)rotate(-90)scale(0.08 -0.08)\">\n       <use xlink:href=\"#DejaVuSans-49\"/>\n       <use x=\"63.623047\" xlink:href=\"#DejaVuSans-48\"/>\n      </g>\n     </g>\n    </g>\n    <g id=\"xtick_23\">\n     <g id=\"text_23\">\n      <!-- 39 -->\n      <g transform=\"translate(173.43 241.82)rotate(-90)scale(0.08 -0.08)\">\n       <use xlink:href=\"#DejaVuSans-51\"/>\n       <use x=\"63.623047\" xlink:href=\"#DejaVuSans-57\"/>\n      </g>\n     </g>\n    </g>\n    <g id=\"xtick_24\">\n     <g id=\"text_24\">\n      <!-- 14 -->\n      <g transform=\"translate(180.126 241.82)rotate(-90)scale(0.08 -0.08)\">\n       <use xlink:href=\"#DejaVuSans-49\"/>\n       <use x=\"63.623047\" xlink:href=\"#DejaVuSans-52\"/>\n      </g>\n     </g>\n    </g>\n    <g id=\"xtick_25\">\n     <g id=\"text_25\">\n      <!-- 48 -->\n      <g transform=\"translate(186.822 241.82)rotate(-90)scale(0.08 -0.08)\">\n       <use xlink:href=\"#DejaVuSans-52\"/>\n       <use x=\"63.623047\" xlink:href=\"#DejaVuSans-56\"/>\n      </g>\n     </g>\n    </g>\n    <g id=\"xtick_26\">\n     <g id=\"text_26\">\n      <!-- 9 -->\n      <g transform=\"translate(193.518 236.73)rotate(-90)scale(0.08 -0.08)\">\n       <use xlink:href=\"#DejaVuSans-57\"/>\n      </g>\n     </g>\n    </g>\n    <g id=\"xtick_27\">\n     <g id=\"text_27\">\n      <!-- 0 -->\n      <g transform=\"translate(200.214 236.73)rotate(-90)scale(0.08 -0.08)\">\n       <use xlink:href=\"#DejaVuSans-48\"/>\n      </g>\n     </g>\n    </g>\n    <g id=\"xtick_28\">\n     <g id=\"text_28\">\n      <!-- 1 -->\n      <g transform=\"translate(206.91 236.73)rotate(-90)scale(0.08 -0.08)\">\n       <use xlink:href=\"#DejaVuSans-49\"/>\n      </g>\n     </g>\n    </g>\n    <g id=\"xtick_29\">\n     <g id=\"text_29\">\n      <!-- 37 -->\n      <g transform=\"translate(213.606 241.82)rotate(-90)scale(0.08 -0.08)\">\n       <use xlink:href=\"#DejaVuSans-51\"/>\n       <use x=\"63.623047\" xlink:href=\"#DejaVuSans-55\"/>\n      </g>\n     </g>\n    </g>\n    <g id=\"xtick_30\">\n     <g id=\"text_30\">\n      <!-- 44 -->\n      <g transform=\"translate(220.302 241.82)rotate(-90)scale(0.08 -0.08)\">\n       <use xlink:href=\"#DejaVuSans-52\"/>\n       <use x=\"63.623047\" xlink:href=\"#DejaVuSans-52\"/>\n      </g>\n     </g>\n    </g>\n    <g id=\"xtick_31\">\n     <g id=\"text_31\">\n      <!-- 40 -->\n      <g transform=\"translate(226.998 241.82)rotate(-90)scale(0.08 -0.08)\">\n       <use xlink:href=\"#DejaVuSans-52\"/>\n       <use x=\"63.623047\" xlink:href=\"#DejaVuSans-48\"/>\n      </g>\n     </g>\n    </g>\n    <g id=\"xtick_32\">\n     <g id=\"text_32\">\n      <!-- 6 -->\n      <g transform=\"translate(233.694 236.73)rotate(-90)scale(0.08 -0.08)\">\n       <use xlink:href=\"#DejaVuSans-54\"/>\n      </g>\n     </g>\n    </g>\n    <g id=\"xtick_33\">\n     <g id=\"text_33\">\n      <!-- 17 -->\n      <g transform=\"translate(240.39 241.82)rotate(-90)scale(0.08 -0.08)\">\n       <use xlink:href=\"#DejaVuSans-49\"/>\n       <use x=\"63.623047\" xlink:href=\"#DejaVuSans-55\"/>\n      </g>\n     </g>\n    </g>\n    <g id=\"xtick_34\">\n     <g id=\"text_34\">\n      <!-- 31 -->\n      <g transform=\"translate(247.086 241.82)rotate(-90)scale(0.08 -0.08)\">\n       <use xlink:href=\"#DejaVuSans-51\"/>\n       <use x=\"63.623047\" xlink:href=\"#DejaVuSans-49\"/>\n      </g>\n     </g>\n    </g>\n    <g id=\"xtick_35\">\n     <g id=\"text_35\">\n      <!-- 46 -->\n      <g transform=\"translate(253.782 241.82)rotate(-90)scale(0.08 -0.08)\">\n       <use xlink:href=\"#DejaVuSans-52\"/>\n       <use x=\"63.623047\" xlink:href=\"#DejaVuSans-54\"/>\n      </g>\n     </g>\n    </g>\n    <g id=\"xtick_36\">\n     <g id=\"text_36\">\n      <!-- 32 -->\n      <g transform=\"translate(260.478 241.82)rotate(-90)scale(0.08 -0.08)\">\n       <use xlink:href=\"#DejaVuSans-51\"/>\n       <use x=\"63.623047\" xlink:href=\"#DejaVuSans-50\"/>\n      </g>\n     </g>\n    </g>\n    <g id=\"xtick_37\">\n     <g id=\"text_37\">\n      <!-- 19 -->\n      <g transform=\"translate(267.174 241.82)rotate(-90)scale(0.08 -0.08)\">\n       <use xlink:href=\"#DejaVuSans-49\"/>\n       <use x=\"63.623047\" xlink:href=\"#DejaVuSans-57\"/>\n      </g>\n     </g>\n    </g>\n    <g id=\"xtick_38\">\n     <g id=\"text_38\">\n      <!-- 42 -->\n      <g transform=\"translate(273.87 241.82)rotate(-90)scale(0.08 -0.08)\">\n       <use xlink:href=\"#DejaVuSans-52\"/>\n       <use x=\"63.623047\" xlink:href=\"#DejaVuSans-50\"/>\n      </g>\n     </g>\n    </g>\n    <g id=\"xtick_39\">\n     <g id=\"text_39\">\n      <!-- 25 -->\n      <g transform=\"translate(280.566 241.82)rotate(-90)scale(0.08 -0.08)\">\n       <use xlink:href=\"#DejaVuSans-50\"/>\n       <use x=\"63.623047\" xlink:href=\"#DejaVuSans-53\"/>\n      </g>\n     </g>\n    </g>\n    <g id=\"xtick_40\">\n     <g id=\"text_40\">\n      <!-- 28 -->\n      <g transform=\"translate(287.262 241.82)rotate(-90)scale(0.08 -0.08)\">\n       <use xlink:href=\"#DejaVuSans-50\"/>\n       <use x=\"63.623047\" xlink:href=\"#DejaVuSans-56\"/>\n      </g>\n     </g>\n    </g>\n    <g id=\"xtick_41\">\n     <g id=\"text_41\">\n      <!-- 13 -->\n      <g transform=\"translate(293.958 241.82)rotate(-90)scale(0.08 -0.08)\">\n       <use xlink:href=\"#DejaVuSans-49\"/>\n       <use x=\"63.623047\" xlink:href=\"#DejaVuSans-51\"/>\n      </g>\n     </g>\n    </g>\n    <g id=\"xtick_42\">\n     <g id=\"text_42\">\n      <!-- 36 -->\n      <g transform=\"translate(300.654 241.82)rotate(-90)scale(0.08 -0.08)\">\n       <use xlink:href=\"#DejaVuSans-51\"/>\n       <use x=\"63.623047\" xlink:href=\"#DejaVuSans-54\"/>\n      </g>\n     </g>\n    </g>\n    <g id=\"xtick_43\">\n     <g id=\"text_43\">\n      <!-- 27 -->\n      <g transform=\"translate(307.35 241.82)rotate(-90)scale(0.08 -0.08)\">\n       <use xlink:href=\"#DejaVuSans-50\"/>\n       <use x=\"63.623047\" xlink:href=\"#DejaVuSans-55\"/>\n      </g>\n     </g>\n    </g>\n    <g id=\"xtick_44\">\n     <g id=\"text_44\">\n      <!-- 2 -->\n      <g transform=\"translate(314.046 236.73)rotate(-90)scale(0.08 -0.08)\">\n       <use xlink:href=\"#DejaVuSans-50\"/>\n      </g>\n     </g>\n    </g>\n    <g id=\"xtick_45\">\n     <g id=\"text_45\">\n      <!-- 23 -->\n      <g transform=\"translate(320.742 241.82)rotate(-90)scale(0.08 -0.08)\">\n       <use xlink:href=\"#DejaVuSans-50\"/>\n       <use x=\"63.623047\" xlink:href=\"#DejaVuSans-51\"/>\n      </g>\n     </g>\n    </g>\n    <g id=\"xtick_46\">\n     <g id=\"text_46\">\n      <!-- 24 -->\n      <g transform=\"translate(327.438 241.82)rotate(-90)scale(0.08 -0.08)\">\n       <use xlink:href=\"#DejaVuSans-50\"/>\n       <use x=\"63.623047\" xlink:href=\"#DejaVuSans-52\"/>\n      </g>\n     </g>\n    </g>\n    <g id=\"xtick_47\">\n     <g id=\"text_47\">\n      <!-- 43 -->\n      <g transform=\"translate(334.134 241.82)rotate(-90)scale(0.08 -0.08)\">\n       <use xlink:href=\"#DejaVuSans-52\"/>\n       <use x=\"63.623047\" xlink:href=\"#DejaVuSans-51\"/>\n      </g>\n     </g>\n    </g>\n    <g id=\"xtick_48\">\n     <g id=\"text_48\">\n      <!-- 5 -->\n      <g transform=\"translate(340.83 236.73)rotate(-90)scale(0.08 -0.08)\">\n       <use xlink:href=\"#DejaVuSans-53\"/>\n      </g>\n     </g>\n    </g>\n    <g id=\"xtick_49\">\n     <g id=\"text_49\">\n      <!-- 22 -->\n      <g transform=\"translate(347.526 241.82)rotate(-90)scale(0.08 -0.08)\">\n       <use xlink:href=\"#DejaVuSans-50\"/>\n       <use x=\"63.623047\" xlink:href=\"#DejaVuSans-50\"/>\n      </g>\n     </g>\n    </g>\n    <g id=\"xtick_50\">\n     <g id=\"text_50\">\n      <!-- 30 -->\n      <g transform=\"translate(354.222 241.82)rotate(-90)scale(0.08 -0.08)\">\n       <use xlink:href=\"#DejaVuSans-51\"/>\n       <use x=\"63.623047\" xlink:href=\"#DejaVuSans-48\"/>\n      </g>\n     </g>\n    </g>\n   </g>\n   <g id=\"matplotlib.axis_2\">\n    <g id=\"ytick_1\">\n     <g id=\"line2d_1\">\n      <defs>\n       <path d=\"M 0 0 \nL -3.5 0 \n\" id=\"med1094b595\" style=\"stroke:#000000;stroke-width:0.8;\"/>\n      </defs>\n      <g>\n       <use style=\"stroke:#000000;stroke-width:0.8;\" x=\"20.5625\" xlink:href=\"#med1094b595\" y=\"224.64\"/>\n      </g>\n     </g>\n     <g id=\"text_51\">\n      <!-- 0 -->\n      <g transform=\"translate(7.2 228.439219)scale(0.1 -0.1)\">\n       <use xlink:href=\"#DejaVuSans-48\"/>\n      </g>\n     </g>\n    </g>\n    <g id=\"ytick_2\">\n     <g id=\"line2d_2\">\n      <g>\n       <use style=\"stroke:#000000;stroke-width:0.8;\" x=\"20.5625\" xlink:href=\"#med1094b595\" y=\"187.066834\"/>\n      </g>\n     </g>\n     <g id=\"text_52\">\n      <!-- 1 -->\n      <g transform=\"translate(7.2 190.866052)scale(0.1 -0.1)\">\n       <use xlink:href=\"#DejaVuSans-49\"/>\n      </g>\n     </g>\n    </g>\n    <g id=\"ytick_3\">\n     <g id=\"line2d_3\">\n      <g>\n       <use style=\"stroke:#000000;stroke-width:0.8;\" x=\"20.5625\" xlink:href=\"#med1094b595\" y=\"149.493667\"/>\n      </g>\n     </g>\n     <g id=\"text_53\">\n      <!-- 2 -->\n      <g transform=\"translate(7.2 153.292886)scale(0.1 -0.1)\">\n       <use xlink:href=\"#DejaVuSans-50\"/>\n      </g>\n     </g>\n    </g>\n    <g id=\"ytick_4\">\n     <g id=\"line2d_4\">\n      <g>\n       <use style=\"stroke:#000000;stroke-width:0.8;\" x=\"20.5625\" xlink:href=\"#med1094b595\" y=\"111.920501\"/>\n      </g>\n     </g>\n     <g id=\"text_54\">\n      <!-- 3 -->\n      <g transform=\"translate(7.2 115.71972)scale(0.1 -0.1)\">\n       <use xlink:href=\"#DejaVuSans-51\"/>\n      </g>\n     </g>\n    </g>\n    <g id=\"ytick_5\">\n     <g id=\"line2d_5\">\n      <g>\n       <use style=\"stroke:#000000;stroke-width:0.8;\" x=\"20.5625\" xlink:href=\"#med1094b595\" y=\"74.347335\"/>\n      </g>\n     </g>\n     <g id=\"text_55\">\n      <!-- 4 -->\n      <g transform=\"translate(7.2 78.146554)scale(0.1 -0.1)\">\n       <use xlink:href=\"#DejaVuSans-52\"/>\n      </g>\n     </g>\n    </g>\n    <g id=\"ytick_6\">\n     <g id=\"line2d_6\">\n      <g>\n       <use style=\"stroke:#000000;stroke-width:0.8;\" x=\"20.5625\" xlink:href=\"#med1094b595\" y=\"36.774168\"/>\n      </g>\n     </g>\n     <g id=\"text_56\">\n      <!-- 5 -->\n      <g transform=\"translate(7.2 40.573387)scale(0.1 -0.1)\">\n       <use xlink:href=\"#DejaVuSans-53\"/>\n      </g>\n     </g>\n    </g>\n   </g>\n   <g id=\"LineCollection_1\">\n    <path clip-path=\"url(#p359591e129)\" d=\"M 43.9985 224.64 \nL 43.9985 218.148869 \nL 50.6945 218.148869 \nL 50.6945 224.64 \n\" style=\"fill:none;stroke:#008000;stroke-width:1.5;\"/>\n    <path clip-path=\"url(#p359591e129)\" d=\"M 37.3025 224.64 \nL 37.3025 216.35042 \nL 47.3465 216.35042 \nL 47.3465 218.148869 \n\" style=\"fill:none;stroke:#008000;stroke-width:1.5;\"/>\n    <path clip-path=\"url(#p359591e129)\" d=\"M 30.6065 224.64 \nL 30.6065 206.724588 \nL 42.3245 206.724588 \nL 42.3245 216.35042 \n\" style=\"fill:none;stroke:#008000;stroke-width:1.5;\"/>\n    <path clip-path=\"url(#p359591e129)\" d=\"M 57.3905 224.64 \nL 57.3905 218.872187 \nL 64.0865 218.872187 \nL 64.0865 224.64 \n\" style=\"fill:none;stroke:#008000;stroke-width:1.5;\"/>\n    <path clip-path=\"url(#p359591e129)\" d=\"M 70.7825 224.64 \nL 70.7825 223.488099 \nL 77.4785 223.488099 \nL 77.4785 224.64 \n\" style=\"fill:none;stroke:#008000;stroke-width:1.5;\"/>\n    <path clip-path=\"url(#p359591e129)\" d=\"M 90.8705 224.64 \nL 90.8705 218.813517 \nL 97.5665 218.813517 \nL 97.5665 224.64 \n\" style=\"fill:none;stroke:#008000;stroke-width:1.5;\"/>\n    <path clip-path=\"url(#p359591e129)\" d=\"M 84.1745 224.64 \nL 84.1745 215.004043 \nL 94.2185 215.004043 \nL 94.2185 218.813517 \n\" style=\"fill:none;stroke:#008000;stroke-width:1.5;\"/>\n    <path clip-path=\"url(#p359591e129)\" d=\"M 74.1305 223.488099 \nL 74.1305 212.50701 \nL 89.1965 212.50701 \nL 89.1965 215.004043 \n\" style=\"fill:none;stroke:#008000;stroke-width:1.5;\"/>\n    <path clip-path=\"url(#p359591e129)\" d=\"M 60.7385 218.872187 \nL 60.7385 199.660379 \nL 81.6635 199.660379 \nL 81.6635 212.50701 \n\" style=\"fill:none;stroke:#008000;stroke-width:1.5;\"/>\n    <path clip-path=\"url(#p359591e129)\" d=\"M 36.4655 206.724588 \nL 36.4655 193.809292 \nL 71.201 193.809292 \nL 71.201 199.660379 \n\" style=\"fill:none;stroke:#008000;stroke-width:1.5;\"/>\n    <path clip-path=\"url(#p359591e129)\" d=\"M 23.9105 224.64 \nL 23.9105 179.130303 \nL 53.83325 179.130303 \nL 53.83325 193.809292 \n\" style=\"fill:none;stroke:#008000;stroke-width:1.5;\"/>\n    <path clip-path=\"url(#p359591e129)\" d=\"M 104.2625 224.64 \nL 104.2625 213.76157 \nL 110.9585 213.76157 \nL 110.9585 224.64 \n\" style=\"fill:none;stroke:#008000;stroke-width:1.5;\"/>\n    <path clip-path=\"url(#p359591e129)\" d=\"M 124.3505 224.64 \nL 124.3505 223.002709 \nL 131.0465 223.002709 \nL 131.0465 224.64 \n\" style=\"fill:none;stroke:#008000;stroke-width:1.5;\"/>\n    <path clip-path=\"url(#p359591e129)\" d=\"M 137.7425 224.64 \nL 137.7425 221.622727 \nL 144.4385 221.622727 \nL 144.4385 224.64 \n\" style=\"fill:none;stroke:#008000;stroke-width:1.5;\"/>\n    <path clip-path=\"url(#p359591e129)\" d=\"M 127.6985 223.002709 \nL 127.6985 219.747455 \nL 141.0905 219.747455 \nL 141.0905 221.622727 \n\" style=\"fill:none;stroke:#008000;stroke-width:1.5;\"/>\n    <path clip-path=\"url(#p359591e129)\" d=\"M 117.6545 224.64 \nL 117.6545 211.841807 \nL 134.3945 211.841807 \nL 134.3945 219.747455 \n\" style=\"fill:none;stroke:#008000;stroke-width:1.5;\"/>\n    <path clip-path=\"url(#p359591e129)\" d=\"M 107.6105 213.76157 \nL 107.6105 204.583826 \nL 126.0245 204.583826 \nL 126.0245 211.841807 \n\" style=\"fill:none;stroke:#008000;stroke-width:1.5;\"/>\n    <path clip-path=\"url(#p359591e129)\" d=\"M 151.1345 224.64 \nL 151.1345 197.942581 \nL 157.8305 197.942581 \nL 157.8305 224.64 \n\" style=\"fill:none;stroke:#008000;stroke-width:1.5;\"/>\n    <path clip-path=\"url(#p359591e129)\" d=\"M 116.8175 204.583826 \nL 116.8175 189.204678 \nL 154.4825 189.204678 \nL 154.4825 197.942581 \n\" style=\"fill:none;stroke:#008000;stroke-width:1.5;\"/>\n    <path clip-path=\"url(#p359591e129)\" d=\"M 177.9185 224.64 \nL 177.9185 219.158216 \nL 184.6145 219.158216 \nL 184.6145 224.64 \n\" style=\"fill:none;stroke:#008000;stroke-width:1.5;\"/>\n    <path clip-path=\"url(#p359591e129)\" d=\"M 171.2225 224.64 \nL 171.2225 208.798918 \nL 181.2665 208.798918 \nL 181.2665 219.158216 \n\" style=\"fill:none;stroke:#008000;stroke-width:1.5;\"/>\n    <path clip-path=\"url(#p359591e129)\" d=\"M 164.5265 224.64 \nL 164.5265 180.055024 \nL 176.2445 180.055024 \nL 176.2445 208.798918 \n\" style=\"fill:none;stroke:#008000;stroke-width:1.5;\"/>\n    <path clip-path=\"url(#p359591e129)\" d=\"M 135.65 189.204678 \nL 135.65 149.43236 \nL 170.3855 149.43236 \nL 170.3855 180.055024 \n\" style=\"fill:none;stroke:#008000;stroke-width:1.5;\"/>\n    <path clip-path=\"url(#p359591e129)\" d=\"M 38.871875 179.130303 \nL 38.871875 113.637463 \nL 153.01775 113.637463 \nL 153.01775 149.43236 \n\" style=\"fill:none;stroke:#008000;stroke-width:1.5;\"/>\n   </g>\n   <g id=\"LineCollection_2\">\n    <path clip-path=\"url(#p359591e129)\" d=\"M 198.0065 224.64 \nL 198.0065 221.31207 \nL 204.7025 221.31207 \nL 204.7025 224.64 \n\" style=\"fill:none;stroke:#ff0000;stroke-width:1.5;\"/>\n    <path clip-path=\"url(#p359591e129)\" d=\"M 191.3105 224.64 \nL 191.3105 215.789433 \nL 201.3545 215.789433 \nL 201.3545 221.31207 \n\" style=\"fill:none;stroke:#ff0000;stroke-width:1.5;\"/>\n    <path clip-path=\"url(#p359591e129)\" d=\"M 211.3985 224.64 \nL 211.3985 219.722802 \nL 218.0945 219.722802 \nL 218.0945 224.64 \n\" style=\"fill:none;stroke:#ff0000;stroke-width:1.5;\"/>\n    <path clip-path=\"url(#p359591e129)\" d=\"M 231.4865 224.64 \nL 231.4865 218.6818 \nL 238.1825 218.6818 \nL 238.1825 224.64 \n\" style=\"fill:none;stroke:#ff0000;stroke-width:1.5;\"/>\n    <path clip-path=\"url(#p359591e129)\" d=\"M 224.7905 224.64 \nL 224.7905 212.585656 \nL 234.8345 212.585656 \nL 234.8345 218.6818 \n\" style=\"fill:none;stroke:#ff0000;stroke-width:1.5;\"/>\n    <path clip-path=\"url(#p359591e129)\" d=\"M 214.7465 219.722802 \nL 214.7465 211.562244 \nL 229.8125 211.562244 \nL 229.8125 212.585656 \n\" style=\"fill:none;stroke:#ff0000;stroke-width:1.5;\"/>\n    <path clip-path=\"url(#p359591e129)\" d=\"M 196.3325 215.789433 \nL 196.3325 196.913123 \nL 222.2795 196.913123 \nL 222.2795 211.562244 \n\" style=\"fill:none;stroke:#ff0000;stroke-width:1.5;\"/>\n    <path clip-path=\"url(#p359591e129)\" d=\"M 244.8785 224.64 \nL 244.8785 218.061602 \nL 251.5745 218.061602 \nL 251.5745 224.64 \n\" style=\"fill:none;stroke:#ff0000;stroke-width:1.5;\"/>\n    <path clip-path=\"url(#p359591e129)\" d=\"M 264.9665 224.64 \nL 264.9665 221.533724 \nL 271.6625 221.533724 \nL 271.6625 224.64 \n\" style=\"fill:none;stroke:#ff0000;stroke-width:1.5;\"/>\n    <path clip-path=\"url(#p359591e129)\" d=\"M 258.2705 224.64 \nL 258.2705 219.194202 \nL 268.3145 219.194202 \nL 268.3145 221.533724 \n\" style=\"fill:none;stroke:#ff0000;stroke-width:1.5;\"/>\n    <path clip-path=\"url(#p359591e129)\" d=\"M 278.3585 224.64 \nL 278.3585 218.773213 \nL 285.0545 218.773213 \nL 285.0545 224.64 \n\" style=\"fill:none;stroke:#ff0000;stroke-width:1.5;\"/>\n    <path clip-path=\"url(#p359591e129)\" d=\"M 263.2925 219.194202 \nL 263.2925 216.19593 \nL 281.7065 216.19593 \nL 281.7065 218.773213 \n\" style=\"fill:none;stroke:#ff0000;stroke-width:1.5;\"/>\n    <path clip-path=\"url(#p359591e129)\" d=\"M 291.7505 224.64 \nL 291.7505 215.916035 \nL 298.4465 215.916035 \nL 298.4465 224.64 \n\" style=\"fill:none;stroke:#ff0000;stroke-width:1.5;\"/>\n    <path clip-path=\"url(#p359591e129)\" d=\"M 272.4995 216.19593 \nL 272.4995 210.075393 \nL 295.0985 210.075393 \nL 295.0985 215.916035 \n\" style=\"fill:none;stroke:#ff0000;stroke-width:1.5;\"/>\n    <path clip-path=\"url(#p359591e129)\" d=\"M 248.2265 218.061602 \nL 248.2265 203.843355 \nL 283.799 203.843355 \nL 283.799 210.075393 \n\" style=\"fill:none;stroke:#ff0000;stroke-width:1.5;\"/>\n    <path clip-path=\"url(#p359591e129)\" d=\"M 318.5345 224.64 \nL 318.5345 217.217626 \nL 325.2305 217.217626 \nL 325.2305 224.64 \n\" style=\"fill:none;stroke:#ff0000;stroke-width:1.5;\"/>\n    <path clip-path=\"url(#p359591e129)\" d=\"M 311.8385 224.64 \nL 311.8385 212.501543 \nL 321.8825 212.501543 \nL 321.8825 217.217626 \n\" style=\"fill:none;stroke:#ff0000;stroke-width:1.5;\"/>\n    <path clip-path=\"url(#p359591e129)\" d=\"M 305.1425 224.64 \nL 305.1425 198.574716 \nL 316.8605 198.574716 \nL 316.8605 212.501543 \n\" style=\"fill:none;stroke:#ff0000;stroke-width:1.5;\"/>\n    <path clip-path=\"url(#p359591e129)\" d=\"M 345.3185 224.64 \nL 345.3185 220.364785 \nL 352.0145 220.364785 \nL 352.0145 224.64 \n\" style=\"fill:none;stroke:#ff0000;stroke-width:1.5;\"/>\n    <path clip-path=\"url(#p359591e129)\" d=\"M 338.6225 224.64 \nL 338.6225 199.693193 \nL 348.6665 199.693193 \nL 348.6665 220.364785 \n\" style=\"fill:none;stroke:#ff0000;stroke-width:1.5;\"/>\n    <path clip-path=\"url(#p359591e129)\" d=\"M 331.9265 224.64 \nL 331.9265 192.058635 \nL 343.6445 192.058635 \nL 343.6445 199.693193 \n\" style=\"fill:none;stroke:#ff0000;stroke-width:1.5;\"/>\n    <path clip-path=\"url(#p359591e129)\" d=\"M 311.0015 198.574716 \nL 311.0015 161.797171 \nL 337.7855 161.797171 \nL 337.7855 192.058635 \n\" style=\"fill:none;stroke:#ff0000;stroke-width:1.5;\"/>\n    <path clip-path=\"url(#p359591e129)\" d=\"M 266.01275 203.843355 \nL 266.01275 124.709927 \nL 324.3935 124.709927 \nL 324.3935 161.797171 \n\" style=\"fill:none;stroke:#ff0000;stroke-width:1.5;\"/>\n    <path clip-path=\"url(#p359591e129)\" d=\"M 209.306 196.913123 \nL 209.306 85.948055 \nL 295.203125 85.948055 \nL 295.203125 124.709927 \n\" style=\"fill:none;stroke:#ff0000;stroke-width:1.5;\"/>\n   </g>\n   <g id=\"LineCollection_3\">\n    <path clip-path=\"url(#p359591e129)\" d=\"M 95.944813 113.637463 \nL 95.944813 17.554286 \nL 252.254563 17.554286 \nL 252.254563 85.948055 \n\" style=\"fill:none;stroke:#0000ff;stroke-width:1.5;\"/>\n   </g>\n   <g id=\"patch_3\">\n    <path d=\"M 20.5625 224.64 \nL 20.5625 7.2 \n\" style=\"fill:none;stroke:#000000;stroke-linecap:square;stroke-linejoin:miter;stroke-width:0.8;\"/>\n   </g>\n   <g id=\"patch_4\">\n    <path d=\"M 355.3625 224.64 \nL 355.3625 7.2 \n\" style=\"fill:none;stroke:#000000;stroke-linecap:square;stroke-linejoin:miter;stroke-width:0.8;\"/>\n   </g>\n   <g id=\"patch_5\">\n    <path d=\"M 20.5625 224.64 \nL 355.3625 224.64 \n\" style=\"fill:none;stroke:#000000;stroke-linecap:square;stroke-linejoin:miter;stroke-width:0.8;\"/>\n   </g>\n   <g id=\"patch_6\">\n    <path d=\"M 20.5625 7.2 \nL 355.3625 7.2 \n\" style=\"fill:none;stroke:#000000;stroke-linecap:square;stroke-linejoin:miter;stroke-width:0.8;\"/>\n   </g>\n  </g>\n </g>\n <defs>\n  <clipPath id=\"p359591e129\">\n   <rect height=\"217.44\" width=\"334.8\" x=\"20.5625\" y=\"7.2\"/>\n  </clipPath>\n </defs>\n</svg>\n",
      "image/png": "[encoded data removed]"
     },
     "metadata": {
      "needs_background": "light"
     }
    }
   ],
   "source": [
    "dendro = hierarchy.dendrogram(Z)"
   ]
  },
  {
   "cell_type": "markdown",
   "metadata": {},
   "source": [
    "## Practice\n",
    "We used __complete__ linkage for our case, change it to __average__ linkage to see how the dendogram changes."
   ]
  },
  {
   "cell_type": "code",
   "execution_count": 18,
   "metadata": {},
   "outputs": [],
   "source": [
    "# write your code here\n",
    "\n",
    "my_agglom = AgglomerativeClustering(n_clusters = 3, linkage = 'complete')"
   ]
  },
  {
   "cell_type": "code",
   "execution_count": 19,
   "metadata": {},
   "outputs": [
    {
     "output_type": "execute_result",
     "data": {
      "text/plain": "AgglomerativeClustering(affinity='euclidean', compute_full_tree='auto',\n                        connectivity=None, distance_threshold=None,\n                        linkage='complete', memory=None, n_clusters=3)"
     },
     "metadata": {},
     "execution_count": 19
    }
   ],
   "source": [
    "my_agglom.fit(X1, y1)"
   ]
  },
  {
   "cell_type": "code",
   "execution_count": 21,
   "metadata": {},
   "outputs": [
    {
     "output_type": "display_data",
     "data": {
      "text/plain": "<Figure size 432x288 with 1 Axes>",
      "image/svg+xml": "<?xml version=\"1.0\" encoding=\"utf-8\" standalone=\"no\"?>\n<!DOCTYPE svg PUBLIC \"-//W3C//DTD SVG 1.1//EN\"\n  \"http://www.w3.org/Graphics/SVG/1.1/DTD/svg11.dtd\">\n<!-- Created with matplotlib (https://matplotlib.org/) -->\n<svg height=\"235.34pt\" version=\"1.1\" viewBox=\"0 0 352.7 235.34\" width=\"352.7pt\" xmlns=\"http://www.w3.org/2000/svg\" xmlns:xlink=\"http://www.w3.org/1999/xlink\">\n <defs>\n  <style type=\"text/css\">\n*{stroke-linecap:butt;stroke-linejoin:round;}\n  </style>\n </defs>\n <g id=\"figure_1\">\n  <g id=\"patch_1\">\n   <path d=\"M 0 235.34 \nL 352.7 235.34 \nL 352.7 0 \nL 0 0 \nz\n\" style=\"fill:none;\"/>\n  </g>\n  <g id=\"axes_1\">\n   <g id=\"patch_2\">\n    <path d=\"M 10.7 224.64 \nL 345.5 224.64 \nL 345.5 7.2 \nL 10.7 7.2 \nz\n\" style=\"fill:#ffffff;\"/>\n   </g>\n   <g id=\"PathCollection_1\">\n    <defs>\n     <path d=\"M 0 1.5 \nC 0.397805 1.5 0.77937 1.341951 1.06066 1.06066 \nC 1.341951 0.77937 1.5 0.397805 1.5 0 \nC 1.5 -0.397805 1.341951 -0.77937 1.06066 -1.06066 \nC 0.77937 -1.341951 0.397805 -1.5 0 -1.5 \nC -0.397805 -1.5 -0.77937 -1.341951 -1.06066 -1.06066 \nC -1.341951 -0.77937 -1.5 -0.397805 -1.5 0 \nC -1.5 0.397805 -1.341951 0.77937 -1.06066 1.06066 \nC -0.77937 1.341951 -0.397805 1.5 0 1.5 \nz\n\" id=\"m3a498a118c\" style=\"stroke:#1f77b4;\"/>\n    </defs>\n    <g clip-path=\"url(#p1a6ff7098a)\">\n     <use style=\"fill:#1f77b4;stroke:#1f77b4;\" x=\"33.408237\" xlink:href=\"#m3a498a118c\" y=\"207.258674\"/>\n     <use style=\"fill:#1f77b4;stroke:#1f77b4;\" x=\"41.231609\" xlink:href=\"#m3a498a118c\" y=\"208.818177\"/>\n     <use style=\"fill:#1f77b4;stroke:#1f77b4;\" x=\"75.358564\" xlink:href=\"#m3a498a118c\" y=\"163.327108\"/>\n     <use style=\"fill:#1f77b4;stroke:#1f77b4;\" x=\"326.755799\" xlink:href=\"#m3a498a118c\" y=\"66.139657\"/>\n     <use style=\"fill:#1f77b4;stroke:#1f77b4;\" x=\"199.048367\" xlink:href=\"#m3a498a118c\" y=\"40.859525\"/>\n     <use style=\"fill:#1f77b4;stroke:#1f77b4;\" x=\"60.835855\" xlink:href=\"#m3a498a118c\" y=\"128.30058\"/>\n     <use style=\"fill:#1f77b4;stroke:#1f77b4;\" x=\"30.508159\" xlink:href=\"#m3a498a118c\" y=\"192.407605\"/>\n     <use style=\"fill:#1f77b4;stroke:#1f77b4;\" x=\"169.598653\" xlink:href=\"#m3a498a118c\" y=\"42.264847\"/>\n     <use style=\"fill:#1f77b4;stroke:#1f77b4;\" x=\"327.470758\" xlink:href=\"#m3a498a118c\" y=\"80.089276\"/>\n     <use style=\"fill:#1f77b4;stroke:#1f77b4;\" x=\"33.193651\" xlink:href=\"#m3a498a118c\" y=\"213.411285\"/>\n     <use style=\"fill:#1f77b4;stroke:#1f77b4;\" x=\"225.456516\" xlink:href=\"#m3a498a118c\" y=\"76.672666\"/>\n     <use style=\"fill:#1f77b4;stroke:#1f77b4;\" x=\"317.677876\" xlink:href=\"#m3a498a118c\" y=\"64.669916\"/>\n     <use style=\"fill:#1f77b4;stroke:#1f77b4;\" x=\"205.447666\" xlink:href=\"#m3a498a118c\" y=\"20.780432\"/>\n     <use style=\"fill:#1f77b4;stroke:#1f77b4;\" x=\"131.94384\" xlink:href=\"#m3a498a118c\" y=\"116.050367\"/>\n     <use style=\"fill:#1f77b4;stroke:#1f77b4;\" x=\"161.587609\" xlink:href=\"#m3a498a118c\" y=\"86.061328\"/>\n     <use style=\"fill:#1f77b4;stroke:#1f77b4;\" x=\"191.866363\" xlink:href=\"#m3a498a118c\" y=\"30.426363\"/>\n     <use style=\"fill:#1f77b4;stroke:#1f77b4;\" x=\"328.930292\" xlink:href=\"#m3a498a118c\" y=\"80.799591\"/>\n     <use style=\"fill:#1f77b4;stroke:#1f77b4;\" x=\"44.161396\" xlink:href=\"#m3a498a118c\" y=\"199.444951\"/>\n     <use style=\"fill:#1f77b4;stroke:#1f77b4;\" x=\"309.025741\" xlink:href=\"#m3a498a118c\" y=\"92.959376\"/>\n     <use style=\"fill:#1f77b4;stroke:#1f77b4;\" x=\"143.848382\" xlink:href=\"#m3a498a118c\" y=\"125.672804\"/>\n     <use style=\"fill:#1f77b4;stroke:#1f77b4;\" x=\"195.091478\" xlink:href=\"#m3a498a118c\" y=\"38.188028\"/>\n     <use style=\"fill:#1f77b4;stroke:#1f77b4;\" x=\"296.177313\" xlink:href=\"#m3a498a118c\" y=\"69.46305\"/>\n     <use style=\"fill:#1f77b4;stroke:#1f77b4;\" x=\"93.527797\" xlink:href=\"#m3a498a118c\" y=\"162.333177\"/>\n     <use style=\"fill:#1f77b4;stroke:#1f77b4;\" x=\"64.288322\" xlink:href=\"#m3a498a118c\" y=\"169.588681\"/>\n     <use style=\"fill:#1f77b4;stroke:#1f77b4;\" x=\"81.994097\" xlink:href=\"#m3a498a118c\" y=\"175.033937\"/>\n     <use style=\"fill:#1f77b4;stroke:#1f77b4;\" x=\"155.192051\" xlink:href=\"#m3a498a118c\" y=\"132.116566\"/>\n     <use style=\"fill:#1f77b4;stroke:#1f77b4;\" x=\"188.086848\" xlink:href=\"#m3a498a118c\" y=\"49.39433\"/>\n     <use style=\"fill:#1f77b4;stroke:#1f77b4;\" x=\"89.285937\" xlink:href=\"#m3a498a118c\" y=\"194.430126\"/>\n     <use style=\"fill:#1f77b4;stroke:#1f77b4;\" x=\"145.875162\" xlink:href=\"#m3a498a118c\" y=\"132.691231\"/>\n     <use style=\"fill:#1f77b4;stroke:#1f77b4;\" x=\"196.133373\" xlink:href=\"#m3a498a118c\" y=\"43.027313\"/>\n     <use style=\"fill:#1f77b4;stroke:#1f77b4;\" x=\"103.772872\" xlink:href=\"#m3a498a118c\" y=\"165.891633\"/>\n     <use style=\"fill:#1f77b4;stroke:#1f77b4;\" x=\"124.959554\" xlink:href=\"#m3a498a118c\" y=\"108.174789\"/>\n     <use style=\"fill:#1f77b4;stroke:#1f77b4;\" x=\"137.515082\" xlink:href=\"#m3a498a118c\" y=\"125.427163\"/>\n     <use style=\"fill:#1f77b4;stroke:#1f77b4;\" x=\"278.758392\" xlink:href=\"#m3a498a118c\" y=\"20.640679\"/>\n     <use style=\"fill:#1f77b4;stroke:#1f77b4;\" x=\"194.603249\" xlink:href=\"#m3a498a118c\" y=\"41.429292\"/>\n     <use style=\"fill:#1f77b4;stroke:#1f77b4;\" x=\"150.947713\" xlink:href=\"#m3a498a118c\" y=\"18.428715\"/>\n     <use style=\"fill:#1f77b4;stroke:#1f77b4;\" x=\"121.843821\" xlink:href=\"#m3a498a118c\" y=\"119.746756\"/>\n     <use style=\"fill:#1f77b4;stroke:#1f77b4;\" x=\"31.407919\" xlink:href=\"#m3a498a118c\" y=\"187.780346\"/>\n     <use style=\"fill:#1f77b4;stroke:#1f77b4;\" x=\"305.90347\" xlink:href=\"#m3a498a118c\" y=\"85.766586\"/>\n     <use style=\"fill:#1f77b4;stroke:#1f77b4;\" x=\"175.425338\" xlink:href=\"#m3a498a118c\" y=\"76.693652\"/>\n     <use style=\"fill:#1f77b4;stroke:#1f77b4;\" x=\"61.14902\" xlink:href=\"#m3a498a118c\" y=\"201.980676\"/>\n     <use style=\"fill:#1f77b4;stroke:#1f77b4;\" x=\"292.313268\" xlink:href=\"#m3a498a118c\" y=\"59.12901\"/>\n     <use style=\"fill:#1f77b4;stroke:#1f77b4;\" x=\"148.561272\" xlink:href=\"#m3a498a118c\" y=\"129.010835\"/>\n     <use style=\"fill:#1f77b4;stroke:#1f77b4;\" x=\"133.301003\" xlink:href=\"#m3a498a118c\" y=\"151.11238\"/>\n     <use style=\"fill:#1f77b4;stroke:#1f77b4;\" x=\"27.269708\" xlink:href=\"#m3a498a118c\" y=\"181.327977\"/>\n     <use style=\"fill:#1f77b4;stroke:#1f77b4;\" x=\"285.247658\" xlink:href=\"#m3a498a118c\" y=\"62.574445\"/>\n     <use style=\"fill:#1f77b4;stroke:#1f77b4;\" x=\"136.700835\" xlink:href=\"#m3a498a118c\" y=\"108.78164\"/>\n     <use style=\"fill:#1f77b4;stroke:#1f77b4;\" x=\"317.010419\" xlink:href=\"#m3a498a118c\" y=\"72.231895\"/>\n     <use style=\"fill:#1f77b4;stroke:#1f77b4;\" x=\"172.869895\" xlink:href=\"#m3a498a118c\" y=\"88.689029\"/>\n     <use style=\"fill:#1f77b4;stroke:#1f77b4;\" x=\"286.593165\" xlink:href=\"#m3a498a118c\" y=\"45.578823\"/>\n    </g>\n   </g>\n   <g id=\"matplotlib.axis_1\"/>\n   <g id=\"matplotlib.axis_2\"/>\n   <g id=\"patch_3\">\n    <path d=\"M 10.7 224.64 \nL 10.7 7.2 \n\" style=\"fill:none;stroke:#000000;stroke-linecap:square;stroke-linejoin:miter;stroke-width:0.8;\"/>\n   </g>\n   <g id=\"patch_4\">\n    <path d=\"M 345.5 224.64 \nL 345.5 7.2 \n\" style=\"fill:none;stroke:#000000;stroke-linecap:square;stroke-linejoin:miter;stroke-width:0.8;\"/>\n   </g>\n   <g id=\"patch_5\">\n    <path d=\"M 10.7 224.64 \nL 345.5 224.64 \n\" style=\"fill:none;stroke:#000000;stroke-linecap:square;stroke-linejoin:miter;stroke-width:0.8;\"/>\n   </g>\n   <g id=\"patch_6\">\n    <path d=\"M 10.7 7.2 \nL 345.5 7.2 \n\" style=\"fill:none;stroke:#000000;stroke-linecap:square;stroke-linejoin:miter;stroke-width:0.8;\"/>\n   </g>\n   <g id=\"text_1\">\n    <!-- 1 -->\n    <defs>\n     <path d=\"M 11.71875 12.984375 \nL 28.328125 12.984375 \nL 28.328125 60.109375 \nL 11.28125 56.59375 \nL 11.28125 69.390625 \nL 28.21875 72.90625 \nL 46.09375 72.90625 \nL 46.09375 12.984375 \nL 62.703125 12.984375 \nL 62.703125 0 \nL 11.71875 0 \nz\n\" id=\"DejaVuSans-Bold-49\"/>\n    </defs>\n    <g transform=\"translate(33.408237 207.258674)scale(0.09 -0.09)\">\n     <use xlink:href=\"#DejaVuSans-Bold-49\"/>\n    </g>\n   </g>\n   <g id=\"text_2\">\n    <!-- 1 -->\n    <g transform=\"translate(41.231609 208.818177)scale(0.09 -0.09)\">\n     <use xlink:href=\"#DejaVuSans-Bold-49\"/>\n    </g>\n   </g>\n   <g id=\"text_3\">\n    <!-- 1 -->\n    <g transform=\"translate(75.358564 163.327108)scale(0.09 -0.09)\">\n     <use xlink:href=\"#DejaVuSans-Bold-49\"/>\n    </g>\n   </g>\n   <g id=\"text_4\">\n    <!-- 3 -->\n    <defs>\n     <path d=\"M 46.578125 39.3125 \nQ 53.953125 37.40625 57.78125 32.6875 \nQ 61.625 27.984375 61.625 20.703125 \nQ 61.625 9.859375 53.3125 4.21875 \nQ 45.015625 -1.421875 29.109375 -1.421875 \nQ 23.484375 -1.421875 17.84375 -0.515625 \nQ 12.203125 0.390625 6.6875 2.203125 \nL 6.6875 16.703125 \nQ 11.96875 14.0625 17.15625 12.71875 \nQ 22.359375 11.375 27.390625 11.375 \nQ 34.859375 11.375 38.84375 13.953125 \nQ 42.828125 16.546875 42.828125 21.390625 \nQ 42.828125 26.375 38.75 28.9375 \nQ 34.671875 31.5 26.703125 31.5 \nL 19.1875 31.5 \nL 19.1875 43.609375 \nL 27.09375 43.609375 \nQ 34.1875 43.609375 37.640625 45.828125 \nQ 41.109375 48.046875 41.109375 52.59375 \nQ 41.109375 56.78125 37.734375 59.078125 \nQ 34.375 61.375 28.21875 61.375 \nQ 23.6875 61.375 19.046875 60.34375 \nQ 14.40625 59.328125 9.8125 57.328125 \nL 9.8125 71.09375 \nQ 15.375 72.65625 20.84375 73.4375 \nQ 26.3125 74.21875 31.59375 74.21875 \nQ 45.796875 74.21875 52.84375 69.546875 \nQ 59.90625 64.890625 59.90625 55.515625 \nQ 59.90625 49.125 56.53125 45.046875 \nQ 53.171875 40.96875 46.578125 39.3125 \nz\n\" id=\"DejaVuSans-Bold-51\"/>\n    </defs>\n    <g style=\"fill:#0000dd;\" transform=\"translate(326.755799 66.139657)scale(0.09 -0.09)\">\n     <use xlink:href=\"#DejaVuSans-Bold-51\"/>\n    </g>\n   </g>\n   <g id=\"text_5\">\n    <!-- 0 -->\n    <defs>\n     <path d=\"M 46 36.53125 \nQ 46 50.203125 43.4375 55.78125 \nQ 40.875 61.375 34.8125 61.375 \nQ 28.765625 61.375 26.171875 55.78125 \nQ 23.578125 50.203125 23.578125 36.53125 \nQ 23.578125 22.703125 26.171875 17.03125 \nQ 28.765625 11.375 34.8125 11.375 \nQ 40.828125 11.375 43.40625 17.03125 \nQ 46 22.703125 46 36.53125 \nz\nM 64.796875 36.375 \nQ 64.796875 18.265625 56.984375 8.421875 \nQ 49.171875 -1.421875 34.8125 -1.421875 \nQ 20.40625 -1.421875 12.59375 8.421875 \nQ 4.78125 18.265625 4.78125 36.375 \nQ 4.78125 54.546875 12.59375 64.375 \nQ 20.40625 74.21875 34.8125 74.21875 \nQ 49.171875 74.21875 56.984375 64.375 \nQ 64.796875 54.546875 64.796875 36.375 \nz\n\" id=\"DejaVuSans-Bold-48\"/>\n    </defs>\n    <g style=\"fill:#870098;\" transform=\"translate(199.048367 40.859525)scale(0.09 -0.09)\">\n     <use xlink:href=\"#DejaVuSans-Bold-48\"/>\n    </g>\n   </g>\n   <g id=\"text_6\">\n    <!-- 1 -->\n    <g transform=\"translate(60.835855 128.30058)scale(0.09 -0.09)\">\n     <use xlink:href=\"#DejaVuSans-Bold-49\"/>\n    </g>\n   </g>\n   <g id=\"text_7\">\n    <!-- 1 -->\n    <g transform=\"translate(30.508159 192.407605)scale(0.09 -0.09)\">\n     <use xlink:href=\"#DejaVuSans-Bold-49\"/>\n    </g>\n   </g>\n   <g id=\"text_8\">\n    <!-- 0 -->\n    <g style=\"fill:#870098;\" transform=\"translate(169.598653 42.264847)scale(0.09 -0.09)\">\n     <use xlink:href=\"#DejaVuSans-Bold-48\"/>\n    </g>\n   </g>\n   <g id=\"text_9\">\n    <!-- 3 -->\n    <g style=\"fill:#0000dd;\" transform=\"translate(327.470758 80.089276)scale(0.09 -0.09)\">\n     <use xlink:href=\"#DejaVuSans-Bold-51\"/>\n    </g>\n   </g>\n   <g id=\"text_10\">\n    <!-- 1 -->\n    <g transform=\"translate(33.193651 213.411285)scale(0.09 -0.09)\">\n     <use xlink:href=\"#DejaVuSans-Bold-49\"/>\n    </g>\n   </g>\n   <g id=\"text_11\">\n    <!-- 0 -->\n    <g style=\"fill:#870098;\" transform=\"translate(225.456516 76.672666)scale(0.09 -0.09)\">\n     <use xlink:href=\"#DejaVuSans-Bold-48\"/>\n    </g>\n   </g>\n   <g id=\"text_12\">\n    <!-- 3 -->\n    <g style=\"fill:#0000dd;\" transform=\"translate(317.677876 64.669916)scale(0.09 -0.09)\">\n     <use xlink:href=\"#DejaVuSans-Bold-51\"/>\n    </g>\n   </g>\n   <g id=\"text_13\">\n    <!-- 0 -->\n    <g style=\"fill:#870098;\" transform=\"translate(205.447666 20.780432)scale(0.09 -0.09)\">\n     <use xlink:href=\"#DejaVuSans-Bold-48\"/>\n    </g>\n   </g>\n   <g id=\"text_14\">\n    <!-- 2 -->\n    <defs>\n     <path d=\"M 28.8125 13.8125 \nL 60.890625 13.8125 \nL 60.890625 0 \nL 7.90625 0 \nL 7.90625 13.8125 \nL 34.515625 37.3125 \nQ 38.09375 40.53125 39.796875 43.609375 \nQ 41.5 46.6875 41.5 50 \nQ 41.5 55.125 38.0625 58.25 \nQ 34.625 61.375 28.90625 61.375 \nQ 24.515625 61.375 19.28125 59.5 \nQ 14.0625 57.625 8.109375 53.90625 \nL 8.109375 69.921875 \nQ 14.453125 72.015625 20.65625 73.109375 \nQ 26.859375 74.21875 32.8125 74.21875 \nQ 45.90625 74.21875 53.15625 68.453125 \nQ 60.40625 62.703125 60.40625 52.390625 \nQ 60.40625 46.4375 57.328125 41.28125 \nQ 54.25 36.140625 44.390625 27.484375 \nz\n\" id=\"DejaVuSans-Bold-50\"/>\n    </defs>\n    <g transform=\"translate(131.94384 116.050367)scale(0.09 -0.09)\">\n     <use xlink:href=\"#DejaVuSans-Bold-50\"/>\n    </g>\n   </g>\n   <g id=\"text_15\">\n    <!-- 0 -->\n    <g style=\"fill:#870098;\" transform=\"translate(161.587609 86.061328)scale(0.09 -0.09)\">\n     <use xlink:href=\"#DejaVuSans-Bold-48\"/>\n    </g>\n   </g>\n   <g id=\"text_16\">\n    <!-- 0 -->\n    <g style=\"fill:#870098;\" transform=\"translate(191.866363 30.426363)scale(0.09 -0.09)\">\n     <use xlink:href=\"#DejaVuSans-Bold-48\"/>\n    </g>\n   </g>\n   <g id=\"text_17\">\n    <!-- 3 -->\n    <g style=\"fill:#0000dd;\" transform=\"translate(328.930292 80.799591)scale(0.09 -0.09)\">\n     <use xlink:href=\"#DejaVuSans-Bold-51\"/>\n    </g>\n   </g>\n   <g id=\"text_18\">\n    <!-- 1 -->\n    <g transform=\"translate(44.161396 199.444951)scale(0.09 -0.09)\">\n     <use xlink:href=\"#DejaVuSans-Bold-49\"/>\n    </g>\n   </g>\n   <g id=\"text_19\">\n    <!-- 3 -->\n    <g style=\"fill:#0000dd;\" transform=\"translate(309.025741 92.959376)scale(0.09 -0.09)\">\n     <use xlink:href=\"#DejaVuSans-Bold-51\"/>\n    </g>\n   </g>\n   <g id=\"text_20\">\n    <!-- 2 -->\n    <g transform=\"translate(143.848382 125.672804)scale(0.09 -0.09)\">\n     <use xlink:href=\"#DejaVuSans-Bold-50\"/>\n    </g>\n   </g>\n   <g id=\"text_21\">\n    <!-- 0 -->\n    <g style=\"fill:#870098;\" transform=\"translate(195.091478 38.188028)scale(0.09 -0.09)\">\n     <use xlink:href=\"#DejaVuSans-Bold-48\"/>\n    </g>\n   </g>\n   <g id=\"text_22\">\n    <!-- 3 -->\n    <g style=\"fill:#0000dd;\" transform=\"translate(296.177313 69.46305)scale(0.09 -0.09)\">\n     <use xlink:href=\"#DejaVuSans-Bold-51\"/>\n    </g>\n   </g>\n   <g id=\"text_23\">\n    <!-- 2 -->\n    <g transform=\"translate(93.527797 162.333177)scale(0.09 -0.09)\">\n     <use xlink:href=\"#DejaVuSans-Bold-50\"/>\n    </g>\n   </g>\n   <g id=\"text_24\">\n    <!-- 1 -->\n    <g transform=\"translate(64.288322 169.588681)scale(0.09 -0.09)\">\n     <use xlink:href=\"#DejaVuSans-Bold-49\"/>\n    </g>\n   </g>\n   <g id=\"text_25\">\n    <!-- 1 -->\n    <g transform=\"translate(81.994097 175.033937)scale(0.09 -0.09)\">\n     <use xlink:href=\"#DejaVuSans-Bold-49\"/>\n    </g>\n   </g>\n   <g id=\"text_26\">\n    <!-- 2 -->\n    <g transform=\"translate(155.192051 132.116566)scale(0.09 -0.09)\">\n     <use xlink:href=\"#DejaVuSans-Bold-50\"/>\n    </g>\n   </g>\n   <g id=\"text_27\">\n    <!-- 0 -->\n    <g style=\"fill:#870098;\" transform=\"translate(188.086848 49.39433)scale(0.09 -0.09)\">\n     <use xlink:href=\"#DejaVuSans-Bold-48\"/>\n    </g>\n   </g>\n   <g id=\"text_28\">\n    <!-- 1 -->\n    <g transform=\"translate(89.285937 194.430126)scale(0.09 -0.09)\">\n     <use xlink:href=\"#DejaVuSans-Bold-49\"/>\n    </g>\n   </g>\n   <g id=\"text_29\">\n    <!-- 2 -->\n    <g transform=\"translate(145.875162 132.691231)scale(0.09 -0.09)\">\n     <use xlink:href=\"#DejaVuSans-Bold-50\"/>\n    </g>\n   </g>\n   <g id=\"text_30\">\n    <!-- 0 -->\n    <g style=\"fill:#870098;\" transform=\"translate(196.133373 43.027313)scale(0.09 -0.09)\">\n     <use xlink:href=\"#DejaVuSans-Bold-48\"/>\n    </g>\n   </g>\n   <g id=\"text_31\">\n    <!-- 2 -->\n    <g transform=\"translate(103.772872 165.891633)scale(0.09 -0.09)\">\n     <use xlink:href=\"#DejaVuSans-Bold-50\"/>\n    </g>\n   </g>\n   <g id=\"text_32\">\n    <!-- 2 -->\n    <g transform=\"translate(124.959554 108.174789)scale(0.09 -0.09)\">\n     <use xlink:href=\"#DejaVuSans-Bold-50\"/>\n    </g>\n   </g>\n   <g id=\"text_33\">\n    <!-- 2 -->\n    <g transform=\"translate(137.515082 125.427163)scale(0.09 -0.09)\">\n     <use xlink:href=\"#DejaVuSans-Bold-50\"/>\n    </g>\n   </g>\n   <g id=\"text_34\">\n    <!-- 3 -->\n    <g style=\"fill:#0000dd;\" transform=\"translate(278.758392 20.640679)scale(0.09 -0.09)\">\n     <use xlink:href=\"#DejaVuSans-Bold-51\"/>\n    </g>\n   </g>\n   <g id=\"text_35\">\n    <!-- 0 -->\n    <g style=\"fill:#870098;\" transform=\"translate(194.603249 41.429292)scale(0.09 -0.09)\">\n     <use xlink:href=\"#DejaVuSans-Bold-48\"/>\n    </g>\n   </g>\n   <g id=\"text_36\">\n    <!-- 0 -->\n    <g style=\"fill:#870098;\" transform=\"translate(150.947713 18.428715)scale(0.09 -0.09)\">\n     <use xlink:href=\"#DejaVuSans-Bold-48\"/>\n    </g>\n   </g>\n   <g id=\"text_37\">\n    <!-- 2 -->\n    <g transform=\"translate(121.843821 119.746756)scale(0.09 -0.09)\">\n     <use xlink:href=\"#DejaVuSans-Bold-50\"/>\n    </g>\n   </g>\n   <g id=\"text_38\">\n    <!-- 1 -->\n    <g transform=\"translate(31.407919 187.780346)scale(0.09 -0.09)\">\n     <use xlink:href=\"#DejaVuSans-Bold-49\"/>\n    </g>\n   </g>\n   <g id=\"text_39\">\n    <!-- 3 -->\n    <g style=\"fill:#0000dd;\" transform=\"translate(305.90347 85.766586)scale(0.09 -0.09)\">\n     <use xlink:href=\"#DejaVuSans-Bold-51\"/>\n    </g>\n   </g>\n   <g id=\"text_40\">\n    <!-- 0 -->\n    <g style=\"fill:#870098;\" transform=\"translate(175.425338 76.693652)scale(0.09 -0.09)\">\n     <use xlink:href=\"#DejaVuSans-Bold-48\"/>\n    </g>\n   </g>\n   <g id=\"text_41\">\n    <!-- 1 -->\n    <g transform=\"translate(61.14902 201.980676)scale(0.09 -0.09)\">\n     <use xlink:href=\"#DejaVuSans-Bold-49\"/>\n    </g>\n   </g>\n   <g id=\"text_42\">\n    <!-- 3 -->\n    <g style=\"fill:#0000dd;\" transform=\"translate(292.313268 59.12901)scale(0.09 -0.09)\">\n     <use xlink:href=\"#DejaVuSans-Bold-51\"/>\n    </g>\n   </g>\n   <g id=\"text_43\">\n    <!-- 2 -->\n    <g transform=\"translate(148.561272 129.010835)scale(0.09 -0.09)\">\n     <use xlink:href=\"#DejaVuSans-Bold-50\"/>\n    </g>\n   </g>\n   <g id=\"text_44\">\n    <!-- 2 -->\n    <g transform=\"translate(133.301003 151.11238)scale(0.09 -0.09)\">\n     <use xlink:href=\"#DejaVuSans-Bold-50\"/>\n    </g>\n   </g>\n   <g id=\"text_45\">\n    <!-- 1 -->\n    <g transform=\"translate(27.269708 181.327977)scale(0.09 -0.09)\">\n     <use xlink:href=\"#DejaVuSans-Bold-49\"/>\n    </g>\n   </g>\n   <g id=\"text_46\">\n    <!-- 3 -->\n    <g style=\"fill:#0000dd;\" transform=\"translate(285.247658 62.574445)scale(0.09 -0.09)\">\n     <use xlink:href=\"#DejaVuSans-Bold-51\"/>\n    </g>\n   </g>\n   <g id=\"text_47\">\n    <!-- 2 -->\n    <g transform=\"translate(136.700835 108.78164)scale(0.09 -0.09)\">\n     <use xlink:href=\"#DejaVuSans-Bold-50\"/>\n    </g>\n   </g>\n   <g id=\"text_48\">\n    <!-- 3 -->\n    <g style=\"fill:#0000dd;\" transform=\"translate(317.010419 72.231895)scale(0.09 -0.09)\">\n     <use xlink:href=\"#DejaVuSans-Bold-51\"/>\n    </g>\n   </g>\n   <g id=\"text_49\">\n    <!-- 0 -->\n    <g style=\"fill:#870098;\" transform=\"translate(172.869895 88.689029)scale(0.09 -0.09)\">\n     <use xlink:href=\"#DejaVuSans-Bold-48\"/>\n    </g>\n   </g>\n   <g id=\"text_50\">\n    <!-- 3 -->\n    <g style=\"fill:#0000dd;\" transform=\"translate(286.593165 45.578823)scale(0.09 -0.09)\">\n     <use xlink:href=\"#DejaVuSans-Bold-51\"/>\n    </g>\n   </g>\n  </g>\n </g>\n <defs>\n  <clipPath id=\"p1a6ff7098a\">\n   <rect height=\"217.44\" width=\"334.8\" x=\"10.7\" y=\"7.2\"/>\n  </clipPath>\n </defs>\n</svg>\n",
      "image/png": "[encoded data removed]"
     },
     "metadata": {}
    }
   ],
   "source": [
    "# Create a figure of size 6 inches by 4 inches.\n",
    "plt.figure(figsize=(6,4))\n",
    "\n",
    "# These two lines of code are used to scale the data points down,\n",
    "# Or else the data points will be scattered very far apart.\n",
    "\n",
    "# Create a minimum and maximum range of X1.\n",
    "x_min, x_max = np.min(X1, axis=0), np.max(X1, axis=0)\n",
    "\n",
    "# Get the average distance for X1.\n",
    "X1 = (X1 - x_min) / (x_max - x_min)\n",
    "\n",
    "# This loop displays all of the datapoints.\n",
    "for i in range(X1.shape[0]):\n",
    "    # Replace the data points with their respective cluster value \n",
    "    # (ex. 0) and is color coded with a colormap (plt.cm.spectral)\n",
    "    plt.text(X1[i, 0], X1[i, 1], str(y1[i]),\n",
    "             color=plt.cm.nipy_spectral(my_agglom.labels_[i] / 10.),\n",
    "             fontdict={'weight': 'bold', 'size': 9})\n",
    "    \n",
    "# Remove the x ticks, y ticks, x and y axis\n",
    "plt.xticks([])\n",
    "plt.yticks([])\n",
    "#plt.axis('off')\n",
    "\n",
    "\n",
    "\n",
    "# Display the plot of the original data before clustering\n",
    "plt.scatter(X1[:, 0], X1[:, 1], marker='.')\n",
    "# Display the plot\n",
    "plt.show()"
   ]
  },
  {
   "cell_type": "code",
   "execution_count": null,
   "metadata": {},
   "outputs": [],
   "source": []
  },
  {
   "cell_type": "markdown",
   "metadata": {},
   "source": [
    "Double-click __here__ for the solution.\n",
    "\n",
    "<!-- Your answer is below:\n",
    "    \n",
    "Z = hierarchy.linkage(dist_matrix, 'average')\n",
    "dendro = hierarchy.dendrogram(Z)\n",
    "\n",
    "-->"
   ]
  },
  {
   "cell_type": "markdown",
   "metadata": {},
   "source": [
    "<hr>\n",
    "<h1 id=\"clustering_vehicle_dataset\">Clustering on Vehicle dataset</h1>\n",
    "\n",
    "Imagine that an automobile manufacturer has developed prototypes for a new vehicle. Before introducing the new model into its range, the manufacturer wants to determine which existing vehicles on the market are most like the prototypes--that is, how vehicles can be grouped, which group is the most similar with the model, and therefore which models they will be competing against.\n",
    "\n",
    "Our objective here, is to use clustering methods, to find the most distinctive clusters of vehicles. It will summarize the existing vehicles and help manufacturers to make decision about the supply of new models."
   ]
  },
  {
   "cell_type": "markdown",
   "metadata": {},
   "source": [
    "### Download data\n",
    "To download the data, we will use **`!wget`** to download it from IBM Object Storage.  \n",
    "__Did you know?__ When it comes to Machine Learning, you will likely be working with large datasets. As a business, where can you host your data? IBM is offering a unique opportunity for businesses, with 10 Tb of IBM Cloud Object Storage: [Sign up now for free](http://cocl.us/ML0101EN-IBM-Offer-CC)"
   ]
  },
  {
   "cell_type": "code",
   "execution_count": null,
   "metadata": {},
   "outputs": [],
   "source": [
    "!wget -O cars_clus.csv https://s3-api.us-geo.objectstorage.softlayer.net/cf-courses-data/CognitiveClass/ML0101ENv3/labs/cars_clus.csv"
   ]
  },
  {
   "cell_type": "markdown",
   "metadata": {},
   "source": [
    "## Read data\n",
    "lets read dataset to see what features the manufacturer has collected about the existing models."
   ]
  },
  {
   "cell_type": "code",
   "execution_count": null,
   "metadata": {},
   "outputs": [],
   "source": [
    "filename = 'cars_clus.csv'\n",
    "\n",
    "#Read csv\n",
    "pdf = pd.read_csv(filename)\n",
    "print (\"Shape of dataset: \", pdf.shape)\n",
    "\n",
    "pdf.head(5)"
   ]
  },
  {
   "cell_type": "markdown",
   "metadata": {},
   "source": [
    "The feature sets include  price in thousands (price), engine size (engine_s), horsepower (horsepow), wheelbase (wheelbas), width (width), length (length), curb weight (curb_wgt), fuel capacity (fuel_cap) and fuel efficiency (mpg)."
   ]
  },
  {
   "cell_type": "markdown",
   "metadata": {},
   "source": [
    "<h2 id=\"data_cleaning\">Data Cleaning</h2>\n",
    "lets simply clear the dataset by dropping the rows that have null value:"
   ]
  },
  {
   "cell_type": "code",
   "execution_count": null,
   "metadata": {},
   "outputs": [],
   "source": [
    "print (\"Shape of dataset before cleaning: \", pdf.size)\n",
    "pdf[[ 'sales', 'resale', 'type', 'price', 'engine_s',\n",
    "       'horsepow', 'wheelbas', 'width', 'length', 'curb_wgt', 'fuel_cap',\n",
    "       'mpg', 'lnsales']] = pdf[['sales', 'resale', 'type', 'price', 'engine_s',\n",
    "       'horsepow', 'wheelbas', 'width', 'length', 'curb_wgt', 'fuel_cap',\n",
    "       'mpg', 'lnsales']].apply(pd.to_numeric, errors='coerce')\n",
    "pdf = pdf.dropna()\n",
    "pdf = pdf.reset_index(drop=True)\n",
    "print (\"Shape of dataset after cleaning: \", pdf.size)\n",
    "pdf.head(5)"
   ]
  },
  {
   "cell_type": "markdown",
   "metadata": {},
   "source": [
    "### Feature selection\n",
    "Lets select our feature set:"
   ]
  },
  {
   "cell_type": "code",
   "execution_count": null,
   "metadata": {},
   "outputs": [],
   "source": [
    "featureset = pdf[['engine_s',  'horsepow', 'wheelbas', 'width', 'length', 'curb_wgt', 'fuel_cap', 'mpg']]"
   ]
  },
  {
   "cell_type": "markdown",
   "metadata": {},
   "source": [
    "### Normalization\n",
    "Now we can normalize the feature set. __MinMaxScaler__ transforms features by scaling each feature to a given range. It is by default (0, 1). That is, this estimator scales and translates each feature individually such that it is between zero and one."
   ]
  },
  {
   "cell_type": "code",
   "execution_count": null,
   "metadata": {},
   "outputs": [],
   "source": [
    "from sklearn.preprocessing import MinMaxScaler\n",
    "x = featureset.values #returns a numpy array\n",
    "min_max_scaler = MinMaxScaler()\n",
    "feature_mtx = min_max_scaler.fit_transform(x)\n",
    "feature_mtx [0:5]"
   ]
  },
  {
   "cell_type": "markdown",
   "metadata": {},
   "source": [
    "<h2 id=\"clustering_using_scipy\">Clustering using Scipy</h2>\n",
    "In this part we use Scipy package to cluster the dataset:  \n",
    "First, we calculate the distance matrix. "
   ]
  },
  {
   "cell_type": "code",
   "execution_count": null,
   "metadata": {},
   "outputs": [],
   "source": [
    "import scipy\n",
    "leng = feature_mtx.shape[0]\n",
    "D = scipy.zeros([leng,leng])\n",
    "for i in range(leng):\n",
    "    for j in range(leng):\n",
    "        D[i,j] = scipy.spatial.distance.euclidean(feature_mtx[i], feature_mtx[j])"
   ]
  },
  {
   "cell_type": "markdown",
   "metadata": {},
   "source": [
    "In agglomerative clustering, at each iteration, the algorithm must update the distance matrix to reflect the distance of the newly formed cluster with the remaining clusters in the forest. \n",
    "The following methods are supported in Scipy for calculating the distance between the newly formed cluster and each:\n",
    "    - single\n",
    "    - complete\n",
    "    - average\n",
    "    - weighted\n",
    "    - centroid\n",
    "    \n",
    "    \n",
    "We use __complete__ for our case, but feel free to change it to see how the results change."
   ]
  },
  {
   "cell_type": "code",
   "execution_count": null,
   "metadata": {},
   "outputs": [],
   "source": [
    "import pylab\n",
    "import scipy.cluster.hierarchy\n",
    "Z = hierarchy.linkage(D, 'complete')"
   ]
  },
  {
   "cell_type": "markdown",
   "metadata": {},
   "source": [
    "Essentially, Hierarchical clustering does not require a pre-specified number of clusters. However, in some applications we want a partition of disjoint clusters just as in flat clustering.\n",
    "So you can use a cutting line:"
   ]
  },
  {
   "cell_type": "code",
   "execution_count": null,
   "metadata": {},
   "outputs": [],
   "source": [
    "from scipy.cluster.hierarchy import fcluster\n",
    "max_d = 3\n",
    "clusters = fcluster(Z, max_d, criterion='distance')\n",
    "clusters"
   ]
  },
  {
   "cell_type": "markdown",
   "metadata": {},
   "source": [
    "Also, you can determine the number of clusters directly:"
   ]
  },
  {
   "cell_type": "code",
   "execution_count": null,
   "metadata": {},
   "outputs": [],
   "source": [
    "from scipy.cluster.hierarchy import fcluster\n",
    "k = 5\n",
    "clusters = fcluster(Z, k, criterion='maxclust')\n",
    "clusters\n"
   ]
  },
  {
   "cell_type": "markdown",
   "metadata": {},
   "source": [
    "Now, plot the dendrogram:"
   ]
  },
  {
   "cell_type": "code",
   "execution_count": null,
   "metadata": {},
   "outputs": [],
   "source": [
    "fig = pylab.figure(figsize=(18,50))\n",
    "def llf(id):\n",
    "    return '[%s %s %s]' % (pdf['manufact'][id], pdf['model'][id], int(float(pdf['type'][id])) )\n",
    "    \n",
    "dendro = hierarchy.dendrogram(Z,  leaf_label_func=llf, leaf_rotation=0, leaf_font_size =12, orientation = 'right')"
   ]
  },
  {
   "cell_type": "markdown",
   "metadata": {},
   "source": [
    "<h2 id=\"clustering_using_skl\">Clustering using scikit-learn</h2>\n",
    "Lets redo it again, but this time using scikit-learn package:"
   ]
  },
  {
   "cell_type": "code",
   "execution_count": null,
   "metadata": {},
   "outputs": [],
   "source": [
    "dist_matrix = distance_matrix(feature_mtx,feature_mtx) \n",
    "print(dist_matrix)"
   ]
  },
  {
   "cell_type": "markdown",
   "metadata": {},
   "source": [
    "Now, we can use the 'AgglomerativeClustering' function from scikit-learn library to cluster the dataset. The AgglomerativeClustering performs a hierarchical clustering using a bottom up approach. The linkage criteria determines the metric used for the merge strategy:\n",
    "\n",
    "- Ward minimizes the sum of squared differences within all clusters. It is a variance-minimizing approach and in this sense is similar to the k-means objective function but tackled with an agglomerative hierarchical approach.\n",
    "- Maximum or complete linkage minimizes the maximum distance between observations of pairs of clusters.\n",
    "- Average linkage minimizes the average of the distances between all observations of pairs of clusters."
   ]
  },
  {
   "cell_type": "code",
   "execution_count": null,
   "metadata": {},
   "outputs": [],
   "source": [
    "agglom = AgglomerativeClustering(n_clusters = 6, linkage = 'complete')\n",
    "agglom.fit(feature_mtx)\n",
    "agglom.labels_"
   ]
  },
  {
   "cell_type": "markdown",
   "metadata": {},
   "source": [
    "And, we can add a new field to our dataframe to show the cluster of each row:"
   ]
  },
  {
   "cell_type": "code",
   "execution_count": null,
   "metadata": {},
   "outputs": [],
   "source": [
    "pdf['cluster_'] = agglom.labels_\n",
    "pdf.head()"
   ]
  },
  {
   "cell_type": "code",
   "execution_count": null,
   "metadata": {},
   "outputs": [],
   "source": [
    "import matplotlib.cm as cm\n",
    "n_clusters = max(agglom.labels_)+1\n",
    "colors = cm.rainbow(np.linspace(0, 1, n_clusters))\n",
    "cluster_labels = list(range(0, n_clusters))\n",
    "\n",
    "# Create a figure of size 6 inches by 4 inches.\n",
    "plt.figure(figsize=(16,14))\n",
    "\n",
    "for color, label in zip(colors, cluster_labels):\n",
    "    subset = pdf[pdf.cluster_ == label]\n",
    "    for i in subset.index:\n",
    "            plt.text(subset.horsepow[i], subset.mpg[i],str(subset['model'][i]), rotation=25) \n",
    "    plt.scatter(subset.horsepow, subset.mpg, s= subset.price*10, c=color, label='cluster'+str(label),alpha=0.5)\n",
    "#    plt.scatter(subset.horsepow, subset.mpg)\n",
    "plt.legend()\n",
    "plt.title('Clusters')\n",
    "plt.xlabel('horsepow')\n",
    "plt.ylabel('mpg')"
   ]
  },
  {
   "cell_type": "markdown",
   "metadata": {},
   "source": [
    "As you can see, we are seeing the distribution of each cluster using the scatter plot, but it is not very clear where is the centroid of each cluster. Moreover, there are 2 types of vehicles in our dataset, \"truck\" (value of 1 in the type column) and \"car\" (value of 1 in the type column). So, we use them to distinguish the classes, and summarize the cluster. First we count the number of cases in each group:"
   ]
  },
  {
   "cell_type": "code",
   "execution_count": null,
   "metadata": {},
   "outputs": [],
   "source": [
    "pdf.groupby(['cluster_','type'])['cluster_'].count()"
   ]
  },
  {
   "cell_type": "markdown",
   "metadata": {},
   "source": [
    "Now we can look at the characteristics of each cluster:"
   ]
  },
  {
   "cell_type": "code",
   "execution_count": null,
   "metadata": {},
   "outputs": [],
   "source": [
    "agg_cars = pdf.groupby(['cluster_','type'])['horsepow','engine_s','mpg','price'].mean()\n",
    "agg_cars"
   ]
  },
  {
   "cell_type": "markdown",
   "metadata": {},
   "source": [
    "\n",
    "It is obvious that we have 3 main clusters with the majority of vehicles in those.\n",
    "\n",
    "__Cars__:\n",
    "- Cluster 1: with almost high mpg, and low in horsepower.\n",
    "- Cluster 2: with good mpg and horsepower, but higher price than average.\n",
    "- Cluster 3: with low mpg, high horsepower, highest price.\n",
    "    \n",
    "    \n",
    "    \n",
    "__Trucks__:\n",
    "- Cluster 1: with almost highest mpg among trucks, and lowest in horsepower and price.\n",
    "- Cluster 2: with almost low mpg and medium horsepower, but higher price than average.\n",
    "- Cluster 3: with good mpg and horsepower, low price.\n",
    "\n",
    "\n",
    "Please notice that we did not use __type__ , and __price__ of cars in the clustering process, but Hierarchical clustering could forge the clusters and discriminate them with quite high accuracy."
   ]
  },
  {
   "cell_type": "code",
   "execution_count": null,
   "metadata": {},
   "outputs": [],
   "source": [
    "plt.figure(figsize=(16,10))\n",
    "for color, label in zip(colors, cluster_labels):\n",
    "    subset = agg_cars.loc[(label,),]\n",
    "    for i in subset.index:\n",
    "        plt.text(subset.loc[i][0]+5, subset.loc[i][2], 'type='+str(int(i)) + ', price='+str(int(subset.loc[i][3]))+'k')\n",
    "    plt.scatter(subset.horsepow, subset.mpg, s=subset.price*20, c=color, label='cluster'+str(label))\n",
    "plt.legend()\n",
    "plt.title('Clusters')\n",
    "plt.xlabel('horsepow')\n",
    "plt.ylabel('mpg')\n"
   ]
  },
  {
   "cell_type": "markdown",
   "metadata": {},
   "source": [
    "<h2>Want to learn more?</h2>\n",
    "\n",
    "IBM SPSS Modeler is a comprehensive analytics platform that has many machine learning algorithms. It has been designed to bring predictive intelligence to decisions made by individuals, by groups, by systems – by your enterprise as a whole. A free trial is available through this course, available here: <a href=\"http://cocl.us/ML0101EN-SPSSModeler\">SPSS Modeler</a>\n",
    "\n",
    "Also, you can use Watson Studio to run these notebooks faster with bigger datasets. Watson Studio is IBM's leading cloud solution for data scientists, built by data scientists. With Jupyter notebooks, RStudio, Apache Spark and popular libraries pre-packaged in the cloud, Watson Studio enables data scientists to collaborate on their projects without having to install anything. Join the fast-growing community of Watson Studio users today with a free account at <a href=\"https://cocl.us/ML0101EN_DSX\">Watson Studio</a>\n",
    "\n",
    "<h3>Thanks for completing this lesson!</h3>\n",
    "\n",
    "<h4>Author:  <a href=\"https://ca.linkedin.com/in/saeedaghabozorgi\">Saeed Aghabozorgi</a></h4>\n",
    "<p><a href=\"https://ca.linkedin.com/in/saeedaghabozorgi\">Saeed Aghabozorgi</a>, PhD is a Data Scientist in IBM with a track record of developing enterprise level applications that substantially increases clients’ ability to turn data into actionable knowledge. He is a researcher in data mining field and expert in developing advanced analytic methods like machine learning and statistical modelling on large datasets.</p>\n",
    "\n",
    "<hr>\n",
    "\n",
    "<p>Copyright &copy; 2018 <a href=\"https://cocl.us/DX0108EN_CC\">Cognitive Class</a>. This notebook and its source code are released under the terms of the <a href=\"https://bigdatauniversity.com/mit-license/\">MIT License</a>.</p>"
   ]
  }
 ],
 "metadata": {
  "kernelspec": {
   "display_name": "Python 3",
   "language": "python",
   "name": "python3"
  },
  "language_info": {
   "codemirror_mode": {
    "name": "ipython",
    "version": 3
   },
   "file_extension": ".py",
   "mimetype": "text/x-python",
   "name": "python",
   "nbconvert_exporter": "python",
   "pygments_lexer": "ipython3",
   "version": "3.7.6-final"
  }
 },
 "nbformat": 4,
 "nbformat_minor": 2
}